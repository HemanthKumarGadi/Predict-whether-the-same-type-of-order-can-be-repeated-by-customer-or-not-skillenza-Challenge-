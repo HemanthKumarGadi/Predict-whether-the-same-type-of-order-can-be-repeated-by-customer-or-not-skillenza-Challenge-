{
 "cells": [
  {
   "cell_type": "code",
   "execution_count": 4,
   "metadata": {},
   "outputs": [],
   "source": [
    "import matplotlib.pyplot as plt\n",
    "import seaborn as sns\n",
    "import pandas as pd\n",
    "from sklearn.preprocessing import LabelEncoder, OneHotEncoder, StandardScaler\n",
    "from sklearn.model_selection import train_test_split\n",
    "from sklearn.model_selection import GridSearchCV, StratifiedKFold, StratifiedShuffleSplit\n",
    "\n",
    "from sklearn.linear_model import LogisticRegression\n",
    "from sklearn.neighbors import KNeighborsClassifier\n",
    "from sklearn.naive_bayes import GaussianNB\n",
    "from sklearn.svm import SVC\n",
    "from sklearn.tree import DecisionTreeClassifier\n",
    "from sklearn.ensemble import RandomForestClassifier\n",
    "\n",
    "from xgboost import XGBClassifier\n",
    "\n",
    "from sklearn.metrics import mean_absolute_error, accuracy_score, classification_report, confusion_matrix"
   ]
  },
  {
   "cell_type": "code",
   "execution_count": 5,
   "metadata": {},
   "outputs": [],
   "source": [
    "data = pd.read_excel(r'C:\\Users\\91784\\Downloads\\dataset\\SKILLINZA\\train_fashion.xlsx')\n",
    "test = pd.read_csv(r'C:\\Users\\91784\\Downloads\\dataset\\SKILLINZA\\test_fashion.csv')"
   ]
  },
  {
   "cell_type": "code",
   "execution_count": 6,
   "metadata": {},
   "outputs": [],
   "source": [
    "train  = data.copy()"
   ]
  },
  {
   "cell_type": "code",
   "execution_count": 7,
   "metadata": {},
   "outputs": [
    {
     "data": {
      "text/html": [
       "<div>\n",
       "<style scoped>\n",
       "    .dataframe tbody tr th:only-of-type {\n",
       "        vertical-align: middle;\n",
       "    }\n",
       "\n",
       "    .dataframe tbody tr th {\n",
       "        vertical-align: top;\n",
       "    }\n",
       "\n",
       "    .dataframe thead th {\n",
       "        text-align: right;\n",
       "    }\n",
       "</style>\n",
       "<table border=\"1\" class=\"dataframe\">\n",
       "  <thead>\n",
       "    <tr style=\"text-align: right;\">\n",
       "      <th></th>\n",
       "      <th>Order_Ref_Number</th>\n",
       "      <th>Order_Placed_AT</th>\n",
       "      <th>Order_Delivered_Date</th>\n",
       "      <th>Product_Ref_ID</th>\n",
       "      <th>Size</th>\n",
       "      <th>Color_Code</th>\n",
       "      <th>Product_Category_Reference</th>\n",
       "      <th>Cost_to_Customer(USD)</th>\n",
       "      <th>Customer_ID</th>\n",
       "      <th>Gender</th>\n",
       "      <th>Customer_BirthDate</th>\n",
       "      <th>Customer_Location</th>\n",
       "      <th>Customer_Joining_Date</th>\n",
       "      <th>Order_Repeat_Chance</th>\n",
       "    </tr>\n",
       "  </thead>\n",
       "  <tbody>\n",
       "    <tr>\n",
       "      <th>0</th>\n",
       "      <td>98981</td>\n",
       "      <td>2016-09-10</td>\n",
       "      <td>2016-09-11</td>\n",
       "      <td>897</td>\n",
       "      <td>l</td>\n",
       "      <td>grey</td>\n",
       "      <td>33</td>\n",
       "      <td>19.9</td>\n",
       "      <td>48040</td>\n",
       "      <td>Mrs</td>\n",
       "      <td>1960-05-30</td>\n",
       "      <td>Hamburg</td>\n",
       "      <td>2015-02-17</td>\n",
       "      <td>0</td>\n",
       "    </tr>\n",
       "    <tr>\n",
       "      <th>1</th>\n",
       "      <td>69825</td>\n",
       "      <td>2016-08-15</td>\n",
       "      <td>2016-08-20</td>\n",
       "      <td>1557</td>\n",
       "      <td>xl</td>\n",
       "      <td>petrol</td>\n",
       "      <td>31</td>\n",
       "      <td>89.9</td>\n",
       "      <td>42892</td>\n",
       "      <td>Mrs</td>\n",
       "      <td>1958-09-23</td>\n",
       "      <td>Lower Saxony</td>\n",
       "      <td>2015-11-14</td>\n",
       "      <td>1</td>\n",
       "    </tr>\n",
       "    <tr>\n",
       "      <th>2</th>\n",
       "      <td>9929</td>\n",
       "      <td>2016-06-27</td>\n",
       "      <td>2016-07-02</td>\n",
       "      <td>292</td>\n",
       "      <td>4+</td>\n",
       "      <td>grey</td>\n",
       "      <td>4</td>\n",
       "      <td>64.9</td>\n",
       "      <td>32479</td>\n",
       "      <td>Mrs</td>\n",
       "      <td>1961-09-19</td>\n",
       "      <td>Hesse</td>\n",
       "      <td>2016-06-28</td>\n",
       "      <td>0</td>\n",
       "    </tr>\n",
       "    <tr>\n",
       "      <th>3</th>\n",
       "      <td>75600</td>\n",
       "      <td>2016-08-21</td>\n",
       "      <td>2016-08-22</td>\n",
       "      <td>1445</td>\n",
       "      <td>xxl</td>\n",
       "      <td>grey</td>\n",
       "      <td>29</td>\n",
       "      <td>59.9</td>\n",
       "      <td>4216</td>\n",
       "      <td>Mrs</td>\n",
       "      <td>1952-10-01</td>\n",
       "      <td>Lower Saxony</td>\n",
       "      <td>2015-02-17</td>\n",
       "      <td>0</td>\n",
       "    </tr>\n",
       "    <tr>\n",
       "      <th>4</th>\n",
       "      <td>95622</td>\n",
       "      <td>2016-09-06</td>\n",
       "      <td>2016-09-07</td>\n",
       "      <td>1415</td>\n",
       "      <td>m</td>\n",
       "      <td>mahagoni</td>\n",
       "      <td>3</td>\n",
       "      <td>21.9</td>\n",
       "      <td>39571</td>\n",
       "      <td>Mrs</td>\n",
       "      <td>1963-10-30</td>\n",
       "      <td>North Rhine-Westphalia</td>\n",
       "      <td>2015-10-02</td>\n",
       "      <td>0</td>\n",
       "    </tr>\n",
       "  </tbody>\n",
       "</table>\n",
       "</div>"
      ],
      "text/plain": [
       "   Order_Ref_Number Order_Placed_AT Order_Delivered_Date  Product_Ref_ID Size  \\\n",
       "0             98981      2016-09-10           2016-09-11             897    l   \n",
       "1             69825      2016-08-15           2016-08-20            1557   xl   \n",
       "2              9929      2016-06-27           2016-07-02             292   4+   \n",
       "3             75600      2016-08-21           2016-08-22            1445  xxl   \n",
       "4             95622      2016-09-06           2016-09-07            1415    m   \n",
       "\n",
       "  Color_Code  Product_Category_Reference  Cost_to_Customer(USD)  Customer_ID  \\\n",
       "0       grey                          33                   19.9        48040   \n",
       "1     petrol                          31                   89.9        42892   \n",
       "2       grey                           4                   64.9        32479   \n",
       "3       grey                          29                   59.9         4216   \n",
       "4   mahagoni                           3                   21.9        39571   \n",
       "\n",
       "  Gender Customer_BirthDate       Customer_Location Customer_Joining_Date  \\\n",
       "0    Mrs         1960-05-30                 Hamburg            2015-02-17   \n",
       "1    Mrs         1958-09-23            Lower Saxony            2015-11-14   \n",
       "2    Mrs         1961-09-19                   Hesse            2016-06-28   \n",
       "3    Mrs         1952-10-01            Lower Saxony            2015-02-17   \n",
       "4    Mrs         1963-10-30  North Rhine-Westphalia            2015-10-02   \n",
       "\n",
       "   Order_Repeat_Chance  \n",
       "0                    0  \n",
       "1                    1  \n",
       "2                    0  \n",
       "3                    0  \n",
       "4                    0  "
      ]
     },
     "execution_count": 7,
     "metadata": {},
     "output_type": "execute_result"
    }
   ],
   "source": [
    "train.head()"
   ]
  },
  {
   "cell_type": "code",
   "execution_count": 8,
   "metadata": {},
   "outputs": [
    {
     "name": "stdout",
     "output_type": "stream",
     "text": [
      "(75000, 14)\n",
      "(25000, 13)\n"
     ]
    }
   ],
   "source": [
    "print (train.shape)\n",
    "print (test.shape)"
   ]
  },
  {
   "cell_type": "markdown",
   "metadata": {},
   "source": [
    "# #classification model which can predict whether the same type of order can be repeated by any customer or no chance that the same type of order cannot be repeated by any customer"
   ]
  },
  {
   "cell_type": "code",
   "execution_count": 9,
   "metadata": {},
   "outputs": [
    {
     "data": {
      "text/plain": [
       "Order_Ref_Number                 0\n",
       "Order_Placed_AT                  0\n",
       "Order_Delivered_Date          7021\n",
       "Product_Ref_ID                   0\n",
       "Size                             0\n",
       "Color_Code                       0\n",
       "Product_Category_Reference       0\n",
       "Cost_to_Customer(USD)            0\n",
       "Customer_ID                      0\n",
       "Gender                           0\n",
       "Customer_BirthDate            6555\n",
       "Customer_Location                0\n",
       "Customer_Joining_Date            0\n",
       "Order_Repeat_Chance              0\n",
       "dtype: int64"
      ]
     },
     "execution_count": 9,
     "metadata": {},
     "output_type": "execute_result"
    }
   ],
   "source": [
    "train.isnull().sum()"
   ]
  },
  {
   "cell_type": "code",
   "execution_count": 10,
   "metadata": {},
   "outputs": [
    {
     "data": {
      "text/plain": [
       "Order_Ref_Number                int64\n",
       "Order_Placed_AT                object\n",
       "Order_Delivered_Date           object\n",
       "Product_Ref_ID                  int64\n",
       "Size                           object\n",
       "Color_Code                     object\n",
       "Product_Category_Reference      int64\n",
       "Cost_to_Customer(USD)         float64\n",
       "Customer_ID                     int64\n",
       "Gender                         object\n",
       "Customer_BirthDate             object\n",
       "Customer_Location              object\n",
       "Customer_Joining_Date          object\n",
       "Order_Repeat_Chance             int64\n",
       "dtype: object"
      ]
     },
     "execution_count": 10,
     "metadata": {},
     "output_type": "execute_result"
    }
   ],
   "source": [
    "train.dtypes"
   ]
  },
  {
   "cell_type": "code",
   "execution_count": 11,
   "metadata": {},
   "outputs": [
    {
     "data": {
      "text/plain": [
       "<matplotlib.axes._subplots.AxesSubplot at 0x29d9f54be80>"
      ]
     },
     "execution_count": 11,
     "metadata": {},
     "output_type": "execute_result"
    },
    {
     "data": {
      "image/png": "[encoded data removed]",
      "text/plain": [
       "<Figure size 432x288 with 1 Axes>"
      ]
     },
     "metadata": {
      "needs_background": "light"
     },
     "output_type": "display_data"
    }
   ],
   "source": [
    "sns.countplot(train['Order_Repeat_Chance'])"
   ]
  },
  {
   "cell_type": "code",
   "execution_count": 12,
   "metadata": {},
   "outputs": [
    {
     "data": {
      "text/plain": [
       "<matplotlib.axes._subplots.AxesSubplot at 0x29d9f95a0b8>"
      ]
     },
     "execution_count": 12,
     "metadata": {},
     "output_type": "execute_result"
    },
    {
     "data": {
      "image/png": "[encoded data removed]",
      "text/plain": [
       "<Figure size 432x288 with 1 Axes>"
      ]
     },
     "metadata": {
      "needs_background": "light"
     },
     "output_type": "display_data"
    }
   ],
   "source": [
    "sns.countplot(train['Cost_to_Customer(USD)'])"
   ]
  },
  {
   "cell_type": "code",
   "execution_count": 13,
   "metadata": {},
   "outputs": [],
   "source": [
    "\n",
    "#train[[\"Order_Placed_AT\", \"Order_Delivered_Date\", \"Customer_BirthDate\"]] = train[[\"Order_Placed_AT\", \"Order_Delivered_Date\", \"Customer_BirthDate\"]].apply(pd.to_datetime)   \n",
    "#test_data[[\"Order_Placed_AT\", \"Order_Delivered_Date\", \"Customer_BirthDate\"]] = test_data[[\"Order_Placed_AT\", \"Order_Delivered_Date\", \"Customer_BirthDate\"]].apply(pd.to_datetime)            \n",
    "\n"
   ]
  },
  {
   "cell_type": "code",
   "execution_count": 14,
   "metadata": {},
   "outputs": [],
   "source": []
  },
  {
   "cell_type": "code",
   "execution_count": 15,
   "metadata": {},
   "outputs": [
    {
     "data": {
      "text/html": [
       "<div>\n",
       "<style scoped>\n",
       "    .dataframe tbody tr th:only-of-type {\n",
       "        vertical-align: middle;\n",
       "    }\n",
       "\n",
       "    .dataframe tbody tr th {\n",
       "        vertical-align: top;\n",
       "    }\n",
       "\n",
       "    .dataframe thead th {\n",
       "        text-align: right;\n",
       "    }\n",
       "</style>\n",
       "<table border=\"1\" class=\"dataframe\">\n",
       "  <thead>\n",
       "    <tr style=\"text-align: right;\">\n",
       "      <th></th>\n",
       "      <th>Order_Ref_Number</th>\n",
       "      <th>Order_Placed_AT</th>\n",
       "      <th>Order_Delivered_Date</th>\n",
       "      <th>Product_Ref_ID</th>\n",
       "      <th>Size</th>\n",
       "      <th>Color_Code</th>\n",
       "      <th>Product_Category_Reference</th>\n",
       "      <th>Cost_to_Customer(USD)</th>\n",
       "      <th>Customer_ID</th>\n",
       "      <th>Gender</th>\n",
       "      <th>Customer_BirthDate</th>\n",
       "      <th>Customer_Location</th>\n",
       "      <th>Customer_Joining_Date</th>\n",
       "      <th>Order_Repeat_Chance</th>\n",
       "    </tr>\n",
       "  </thead>\n",
       "  <tbody>\n",
       "    <tr>\n",
       "      <th>0</th>\n",
       "      <td>98981</td>\n",
       "      <td>2016-09-10</td>\n",
       "      <td>2016-09-11</td>\n",
       "      <td>897</td>\n",
       "      <td>l</td>\n",
       "      <td>grey</td>\n",
       "      <td>33</td>\n",
       "      <td>19.9</td>\n",
       "      <td>48040</td>\n",
       "      <td>Mrs</td>\n",
       "      <td>1960-05-30</td>\n",
       "      <td>Hamburg</td>\n",
       "      <td>2015-02-17</td>\n",
       "      <td>0</td>\n",
       "    </tr>\n",
       "    <tr>\n",
       "      <th>1</th>\n",
       "      <td>69825</td>\n",
       "      <td>2016-08-15</td>\n",
       "      <td>2016-08-20</td>\n",
       "      <td>1557</td>\n",
       "      <td>xl</td>\n",
       "      <td>petrol</td>\n",
       "      <td>31</td>\n",
       "      <td>89.9</td>\n",
       "      <td>42892</td>\n",
       "      <td>Mrs</td>\n",
       "      <td>1958-09-23</td>\n",
       "      <td>Lower Saxony</td>\n",
       "      <td>2015-11-14</td>\n",
       "      <td>1</td>\n",
       "    </tr>\n",
       "    <tr>\n",
       "      <th>2</th>\n",
       "      <td>9929</td>\n",
       "      <td>2016-06-27</td>\n",
       "      <td>2016-07-02</td>\n",
       "      <td>292</td>\n",
       "      <td>4+</td>\n",
       "      <td>grey</td>\n",
       "      <td>4</td>\n",
       "      <td>64.9</td>\n",
       "      <td>32479</td>\n",
       "      <td>Mrs</td>\n",
       "      <td>1961-09-19</td>\n",
       "      <td>Hesse</td>\n",
       "      <td>2016-06-28</td>\n",
       "      <td>0</td>\n",
       "    </tr>\n",
       "    <tr>\n",
       "      <th>3</th>\n",
       "      <td>75600</td>\n",
       "      <td>2016-08-21</td>\n",
       "      <td>2016-08-22</td>\n",
       "      <td>1445</td>\n",
       "      <td>xxl</td>\n",
       "      <td>grey</td>\n",
       "      <td>29</td>\n",
       "      <td>59.9</td>\n",
       "      <td>4216</td>\n",
       "      <td>Mrs</td>\n",
       "      <td>1952-10-01</td>\n",
       "      <td>Lower Saxony</td>\n",
       "      <td>2015-02-17</td>\n",
       "      <td>0</td>\n",
       "    </tr>\n",
       "    <tr>\n",
       "      <th>4</th>\n",
       "      <td>95622</td>\n",
       "      <td>2016-09-06</td>\n",
       "      <td>2016-09-07</td>\n",
       "      <td>1415</td>\n",
       "      <td>m</td>\n",
       "      <td>mahagoni</td>\n",
       "      <td>3</td>\n",
       "      <td>21.9</td>\n",
       "      <td>39571</td>\n",
       "      <td>Mrs</td>\n",
       "      <td>1963-10-30</td>\n",
       "      <td>North Rhine-Westphalia</td>\n",
       "      <td>2015-10-02</td>\n",
       "      <td>0</td>\n",
       "    </tr>\n",
       "  </tbody>\n",
       "</table>\n",
       "</div>"
      ],
      "text/plain": [
       "   Order_Ref_Number Order_Placed_AT Order_Delivered_Date  Product_Ref_ID Size  \\\n",
       "0             98981      2016-09-10           2016-09-11             897    l   \n",
       "1             69825      2016-08-15           2016-08-20            1557   xl   \n",
       "2              9929      2016-06-27           2016-07-02             292   4+   \n",
       "3             75600      2016-08-21           2016-08-22            1445  xxl   \n",
       "4             95622      2016-09-06           2016-09-07            1415    m   \n",
       "\n",
       "  Color_Code  Product_Category_Reference  Cost_to_Customer(USD)  Customer_ID  \\\n",
       "0       grey                          33                   19.9        48040   \n",
       "1     petrol                          31                   89.9        42892   \n",
       "2       grey                           4                   64.9        32479   \n",
       "3       grey                          29                   59.9         4216   \n",
       "4   mahagoni                           3                   21.9        39571   \n",
       "\n",
       "  Gender Customer_BirthDate       Customer_Location Customer_Joining_Date  \\\n",
       "0    Mrs         1960-05-30                 Hamburg            2015-02-17   \n",
       "1    Mrs         1958-09-23            Lower Saxony            2015-11-14   \n",
       "2    Mrs         1961-09-19                   Hesse            2016-06-28   \n",
       "3    Mrs         1952-10-01            Lower Saxony            2015-02-17   \n",
       "4    Mrs         1963-10-30  North Rhine-Westphalia            2015-10-02   \n",
       "\n",
       "   Order_Repeat_Chance  \n",
       "0                    0  \n",
       "1                    1  \n",
       "2                    0  \n",
       "3                    0  \n",
       "4                    0  "
      ]
     },
     "execution_count": 15,
     "metadata": {},
     "output_type": "execute_result"
    }
   ],
   "source": [
    "train.head()"
   ]
  },
  {
   "cell_type": "code",
   "execution_count": 16,
   "metadata": {},
   "outputs": [
    {
     "data": {
      "text/plain": [
       "Mrs             71614\n",
       "Mr               2903\n",
       "Family            307\n",
       "not reported       88\n",
       "Company            88\n",
       "Name: Gender, dtype: int64"
      ]
     },
     "execution_count": 16,
     "metadata": {},
     "output_type": "execute_result"
    }
   ],
   "source": [
    "train['Gender'].value_counts()"
   ]
  },
  {
   "cell_type": "code",
   "execution_count": 17,
   "metadata": {},
   "outputs": [
    {
     "data": {
      "text/plain": [
       "Mrs             23815\n",
       "Mr               1012\n",
       "Family            107\n",
       "Company            40\n",
       "not reported       26\n",
       "Name: Gender, dtype: int64"
      ]
     },
     "execution_count": 17,
     "metadata": {},
     "output_type": "execute_result"
    }
   ],
   "source": [
    "test['Gender'].value_counts()"
   ]
  },
  {
   "cell_type": "code",
   "execution_count": 18,
   "metadata": {},
   "outputs": [
    {
     "data": {
      "text/plain": [
       "North Rhine-Westphalia           17083\n",
       "Lower Saxony                     11401\n",
       "Bavaria                          10244\n",
       "Baden-Wuerttemberg                8992\n",
       "Hesse                             5689\n",
       "Schleswig-Holstein                4126\n",
       "Rhineland-Palatinate              3547\n",
       "Berlin                            3079\n",
       "Saxony                            2393\n",
       "Hamburg                           1923\n",
       "Brandenburg                       1677\n",
       "Mecklenburg-Western Pomerania     1208\n",
       "Thuringia                         1162\n",
       "Bremen                             976\n",
       "Saxony-Anhalt                      833\n",
       "Saarland                           667\n",
       "Name: Customer_Location, dtype: int64"
      ]
     },
     "execution_count": 18,
     "metadata": {},
     "output_type": "execute_result"
    }
   ],
   "source": [
    "train['Customer_Location'].value_counts()"
   ]
  },
  {
   "cell_type": "code",
   "execution_count": 19,
   "metadata": {},
   "outputs": [
    {
     "data": {
      "text/plain": [
       "North Rhine-Westphalia           5742\n",
       "Lower Saxony                     3748\n",
       "Bavaria                          3428\n",
       "Baden-Wuerttemberg               2989\n",
       "Hesse                            1897\n",
       "Schleswig-Holstein               1405\n",
       "Rhineland-Palatinate             1237\n",
       "Berlin                           1014\n",
       "Saxony                            754\n",
       "Hamburg                           612\n",
       "Brandenburg                       554\n",
       "Mecklenburg-Western Pomerania     432\n",
       "Thuringia                         388\n",
       "Saxony-Anhalt                     289\n",
       "Bremen                            282\n",
       "Saarland                          229\n",
       "Name: Customer_Location, dtype: int64"
      ]
     },
     "execution_count": 19,
     "metadata": {},
     "output_type": "execute_result"
    }
   ],
   "source": [
    "test['Customer_Location'].value_counts()"
   ]
  },
  {
   "cell_type": "code",
   "execution_count": 20,
   "metadata": {},
   "outputs": [
    {
     "data": {
      "text/html": [
       "<div>\n",
       "<style scoped>\n",
       "    .dataframe tbody tr th:only-of-type {\n",
       "        vertical-align: middle;\n",
       "    }\n",
       "\n",
       "    .dataframe tbody tr th {\n",
       "        vertical-align: top;\n",
       "    }\n",
       "\n",
       "    .dataframe thead th {\n",
       "        text-align: right;\n",
       "    }\n",
       "</style>\n",
       "<table border=\"1\" class=\"dataframe\">\n",
       "  <thead>\n",
       "    <tr style=\"text-align: right;\">\n",
       "      <th></th>\n",
       "      <th>Order_Ref_Number</th>\n",
       "      <th>Order_Placed_AT</th>\n",
       "      <th>Order_Delivered_Date</th>\n",
       "      <th>Product_Ref_ID</th>\n",
       "      <th>Size</th>\n",
       "      <th>Color_Code</th>\n",
       "      <th>Product_Category_Reference</th>\n",
       "      <th>Cost_to_Customer(USD)</th>\n",
       "      <th>Customer_ID</th>\n",
       "      <th>Gender</th>\n",
       "      <th>Customer_BirthDate</th>\n",
       "      <th>Customer_Location</th>\n",
       "      <th>Customer_Joining_Date</th>\n",
       "      <th>Order_Repeat_Chance</th>\n",
       "    </tr>\n",
       "  </thead>\n",
       "  <tbody>\n",
       "    <tr>\n",
       "      <th>0</th>\n",
       "      <td>98981</td>\n",
       "      <td>2016-09-10</td>\n",
       "      <td>2016-09-11</td>\n",
       "      <td>897</td>\n",
       "      <td>l</td>\n",
       "      <td>grey</td>\n",
       "      <td>33</td>\n",
       "      <td>19.9</td>\n",
       "      <td>48040</td>\n",
       "      <td>Mrs</td>\n",
       "      <td>1960-05-30</td>\n",
       "      <td>Hamburg</td>\n",
       "      <td>2015-02-17</td>\n",
       "      <td>0</td>\n",
       "    </tr>\n",
       "    <tr>\n",
       "      <th>1</th>\n",
       "      <td>69825</td>\n",
       "      <td>2016-08-15</td>\n",
       "      <td>2016-08-20</td>\n",
       "      <td>1557</td>\n",
       "      <td>xl</td>\n",
       "      <td>petrol</td>\n",
       "      <td>31</td>\n",
       "      <td>89.9</td>\n",
       "      <td>42892</td>\n",
       "      <td>Mrs</td>\n",
       "      <td>1958-09-23</td>\n",
       "      <td>Lower Saxony</td>\n",
       "      <td>2015-11-14</td>\n",
       "      <td>1</td>\n",
       "    </tr>\n",
       "    <tr>\n",
       "      <th>2</th>\n",
       "      <td>9929</td>\n",
       "      <td>2016-06-27</td>\n",
       "      <td>2016-07-02</td>\n",
       "      <td>292</td>\n",
       "      <td>4+</td>\n",
       "      <td>grey</td>\n",
       "      <td>4</td>\n",
       "      <td>64.9</td>\n",
       "      <td>32479</td>\n",
       "      <td>Mrs</td>\n",
       "      <td>1961-09-19</td>\n",
       "      <td>Hesse</td>\n",
       "      <td>2016-06-28</td>\n",
       "      <td>0</td>\n",
       "    </tr>\n",
       "    <tr>\n",
       "      <th>3</th>\n",
       "      <td>75600</td>\n",
       "      <td>2016-08-21</td>\n",
       "      <td>2016-08-22</td>\n",
       "      <td>1445</td>\n",
       "      <td>xxl</td>\n",
       "      <td>grey</td>\n",
       "      <td>29</td>\n",
       "      <td>59.9</td>\n",
       "      <td>4216</td>\n",
       "      <td>Mrs</td>\n",
       "      <td>1952-10-01</td>\n",
       "      <td>Lower Saxony</td>\n",
       "      <td>2015-02-17</td>\n",
       "      <td>0</td>\n",
       "    </tr>\n",
       "    <tr>\n",
       "      <th>4</th>\n",
       "      <td>95622</td>\n",
       "      <td>2016-09-06</td>\n",
       "      <td>2016-09-07</td>\n",
       "      <td>1415</td>\n",
       "      <td>m</td>\n",
       "      <td>mahagoni</td>\n",
       "      <td>3</td>\n",
       "      <td>21.9</td>\n",
       "      <td>39571</td>\n",
       "      <td>Mrs</td>\n",
       "      <td>1963-10-30</td>\n",
       "      <td>North Rhine-Westphalia</td>\n",
       "      <td>2015-10-02</td>\n",
       "      <td>0</td>\n",
       "    </tr>\n",
       "  </tbody>\n",
       "</table>\n",
       "</div>"
      ],
      "text/plain": [
       "   Order_Ref_Number Order_Placed_AT Order_Delivered_Date  Product_Ref_ID Size  \\\n",
       "0             98981      2016-09-10           2016-09-11             897    l   \n",
       "1             69825      2016-08-15           2016-08-20            1557   xl   \n",
       "2              9929      2016-06-27           2016-07-02             292   4+   \n",
       "3             75600      2016-08-21           2016-08-22            1445  xxl   \n",
       "4             95622      2016-09-06           2016-09-07            1415    m   \n",
       "\n",
       "  Color_Code  Product_Category_Reference  Cost_to_Customer(USD)  Customer_ID  \\\n",
       "0       grey                          33                   19.9        48040   \n",
       "1     petrol                          31                   89.9        42892   \n",
       "2       grey                           4                   64.9        32479   \n",
       "3       grey                          29                   59.9         4216   \n",
       "4   mahagoni                           3                   21.9        39571   \n",
       "\n",
       "  Gender Customer_BirthDate       Customer_Location Customer_Joining_Date  \\\n",
       "0    Mrs         1960-05-30                 Hamburg            2015-02-17   \n",
       "1    Mrs         1958-09-23            Lower Saxony            2015-11-14   \n",
       "2    Mrs         1961-09-19                   Hesse            2016-06-28   \n",
       "3    Mrs         1952-10-01            Lower Saxony            2015-02-17   \n",
       "4    Mrs         1963-10-30  North Rhine-Westphalia            2015-10-02   \n",
       "\n",
       "   Order_Repeat_Chance  \n",
       "0                    0  \n",
       "1                    1  \n",
       "2                    0  \n",
       "3                    0  \n",
       "4                    0  "
      ]
     },
     "execution_count": 20,
     "metadata": {},
     "output_type": "execute_result"
    }
   ],
   "source": [
    "train.head()"
   ]
  },
  {
   "cell_type": "code",
   "execution_count": 21,
   "metadata": {},
   "outputs": [
    {
     "data": {
      "text/plain": [
       "Order_Ref_Number                int64\n",
       "Order_Placed_AT                object\n",
       "Order_Delivered_Date           object\n",
       "Product_Ref_ID                  int64\n",
       "Size                           object\n",
       "Color_Code                     object\n",
       "Product_Category_Reference      int64\n",
       "Cost_to_Customer(USD)         float64\n",
       "Customer_ID                     int64\n",
       "Gender                         object\n",
       "Customer_BirthDate             object\n",
       "Customer_Location              object\n",
       "Customer_Joining_Date          object\n",
       "Order_Repeat_Chance             int64\n",
       "dtype: object"
      ]
     },
     "execution_count": 21,
     "metadata": {},
     "output_type": "execute_result"
    }
   ],
   "source": [
    "train.dtypes"
   ]
  },
  {
   "cell_type": "markdown",
   "metadata": {},
   "source": [
    "#SIZE Feature contains symbols inorder to process remove the symbols in the values"
   ]
  },
  {
   "cell_type": "code",
   "execution_count": 197,
   "metadata": {},
   "outputs": [],
   "source": [
    "train_base =train.copy()\n",
    "test_data  = test.copy()"
   ]
  },
  {
   "cell_type": "code",
   "execution_count": 23,
   "metadata": {},
   "outputs": [],
   "source": [
    "#batch1['Grouping'] = batch1['Wire Name'].str.extract('^[A-Z].*',expand=True)"
   ]
  },
  {
   "cell_type": "code",
   "execution_count": null,
   "metadata": {},
   "outputs": [],
   "source": [
    "S = 35-37 = 36\n",
    "M =  38-40 = 39\n",
    "L  = 41-43  =  42\n",
    "Xl =  44-47  =  45\n",
    "XXL = 48-51  =  48\n",
    "XXXL  =  52-55  =  53\n"
   ]
  },
  {
   "cell_type": "markdown",
   "metadata": {},
   "source": [
    "# Based on SIZE Basic Measurment replace the string charater values in SIZE column"
   ]
  },
  {
   "cell_type": "markdown",
   "metadata": {},
   "source": [
    "# Replace unsized string with 1 "
   ]
  },
  {
   "cell_type": "code",
   "execution_count": 198,
   "metadata": {},
   "outputs": [],
   "source": [
    "\n",
    "\n",
    "\n",
    "# In[184]:\n",
    "\n",
    "train_base['Size'] = train_base['Size'].replace(['xs'], '33')\n",
    "train_base['Size'] = train_base['Size'].replace(['s'], '36')\n",
    "train_base['Size'] = train_base['Size'].replace(['m'], '39')\n",
    "train_base['Size'] = train_base['Size'].replace(['l'], '42')\n",
    "train_base['Size'] = train_base['Size'].replace(['xl'], '45')\n",
    "train_base['Size'] = train_base['Size'].replace(['xxl'], '48')\n",
    "train_base['Size'] = train_base['Size'].replace(['xxxl'], '53')\n",
    "train_base['Size'] = train_base['Size'].replace(['unsized'], '50')\n",
    "test_data['Size'] = test_data['Size'].replace(['xs'], '36')\n",
    "test_data['Size'] = test_data['Size'].replace(['s'], '33')\n",
    "test_data['Size'] = test_data['Size'].replace(['m'], '39')\n",
    "test_data['Size'] = test_data['Size'].replace(['l'], '42')\n",
    "test_data['Size'] = test_data['Size'].replace(['xl'], '45')\n",
    "test_data['Size'] = test_data['Size'].replace(['xxl'], '48')\n",
    "test_data['Size'] = test_data['Size'].replace(['xxxl'], '53')\n",
    "test_data['Size'] = test_data['Size'].replace(['unsized'], '50')\n"
   ]
  },
  {
   "cell_type": "code",
   "execution_count": 179,
   "metadata": {},
   "outputs": [
    {
     "data": {
      "text/plain": [
       "Order_Ref_Number                 0\n",
       "Order_Placed_AT                  0\n",
       "Order_Delivered_Date          7021\n",
       "Product_Ref_ID                   0\n",
       "Size                             0\n",
       "Color_Code                       0\n",
       "Product_Category_Reference       0\n",
       "Cost_to_Customer(USD)            0\n",
       "Customer_ID                      0\n",
       "Gender                           0\n",
       "Customer_BirthDate            6555\n",
       "Customer_Location                0\n",
       "Customer_Joining_Date            0\n",
       "Order_Repeat_Chance              0\n",
       "dtype: int64"
      ]
     },
     "execution_count": 179,
     "metadata": {},
     "output_type": "execute_result"
    }
   ],
   "source": [
    "train_base.isnull().sum()"
   ]
  },
  {
   "cell_type": "code",
   "execution_count": 199,
   "metadata": {},
   "outputs": [],
   "source": [
    "#train['Size'] = train['Size'].str.extract(r'(\\d+)', expand=False)\n",
    "\n",
    "#train_base['Size'] = train_base['Size'].apply(pd.to_numeric, errors='coerce')\n",
    "\n",
    "#test_data['Size'] = test_data['Size'].apply(pd.to_numeric, errors='coerce')\n",
    "\n",
    "train_base.Size = train_base.Size.str.replace('[#,@,&,+]', '')\n",
    "\n",
    "test_data.Size = test_data.Size.str.replace('[#,@,&,+]', '')\n"
   ]
  },
  {
   "cell_type": "code",
   "execution_count": 167,
   "metadata": {},
   "outputs": [],
   "source": [
    "#train_base['Size'].fillna(int(train_base['Size'].mean()), inplace=True)"
   ]
  },
  {
   "cell_type": "code",
   "execution_count": 200,
   "metadata": {},
   "outputs": [],
   "source": [
    "train_base['Size'] = train_base['Size'].apply(pd.to_numeric)\n",
    "test_data['Size'] = test_data['Size'].apply(pd.to_numeric)"
   ]
  },
  {
   "cell_type": "code",
   "execution_count": 169,
   "metadata": {},
   "outputs": [
    {
     "data": {
      "text/plain": [
       "<matplotlib.axes._subplots.AxesSubplot at 0x29da4b10dd8>"
      ]
     },
     "execution_count": 169,
     "metadata": {},
     "output_type": "execute_result"
    },
    {
     "data": {
      "image/png": "[encoded data removed]",
      "text/plain": [
       "<Figure size 1080x432 with 1 Axes>"
      ]
     },
     "metadata": {
      "needs_background": "light"
     },
     "output_type": "display_data"
    }
   ],
   "source": [
    "%matplotlib inline\n",
    "from matplotlib import pyplot as plt\n",
    "import seaborn as sns\n",
    "\n",
    "plt.figure(figsize=(15,6))\n",
    "sns.distplot(train_base['Size'],rug=True, hist=False)"
   ]
  },
  {
   "cell_type": "markdown",
   "metadata": {},
   "source": [
    "From the Plot we can say Most of products having size below 100"
   ]
  },
  {
   "cell_type": "code",
   "execution_count": 52,
   "metadata": {},
   "outputs": [
    {
     "data": {
      "text/plain": [
       "<matplotlib.axes._subplots.AxesSubplot at 0x29da725a4a8>"
      ]
     },
     "execution_count": 52,
     "metadata": {},
     "output_type": "execute_result"
    },
    {
     "data": {
      "image/png": "[encoded data removed]",
      "text/plain": [
       "<Figure size 432x288 with 1 Axes>"
      ]
     },
     "metadata": {
      "needs_background": "light"
     },
     "output_type": "display_data"
    }
   ],
   "source": [
    "sns.distplot(test_data['Size'],rug=True, hist=False)"
   ]
  },
  {
   "cell_type": "code",
   "execution_count": 182,
   "metadata": {},
   "outputs": [
    {
     "data": {
      "image/png": "[encoded data removed]",
      "text/plain": [
       "<Figure size 1080x432 with 1 Axes>"
      ]
     },
     "metadata": {
      "needs_background": "light"
     },
     "output_type": "display_data"
    }
   ],
   "source": [
    "plt.figure(figsize=(15,6))\n",
    "sns.countplot(x='Size', data=train_base, hue='Order_Repeat_Chance', palette=sns.xkcd_palette([\"azure\", \"light red\"]))\n",
    "plt.title(\"Gender wise order repeat chance\")\n",
    "plt.xlabel('Order repeat chance')\n",
    "plt.ylabel('Gender_count')\n",
    "# plt.savefig('./plots/performance_count.png')\n",
    "plt.show()"
   ]
  },
  {
   "cell_type": "code",
   "execution_count": 53,
   "metadata": {},
   "outputs": [
    {
     "data": {
      "image/png": "[encoded data removed]",
      "text/plain": [
       "<Figure size 432x288 with 1 Axes>"
      ]
     },
     "metadata": {
      "needs_background": "light"
     },
     "output_type": "display_data"
    }
   ],
   "source": [
    "sns.countplot(x='Gender', data=train_base, hue='Order_Repeat_Chance', palette=sns.xkcd_palette([\"azure\", \"light red\"]))\n",
    "plt.title(\"Gender wise order repeat chance\")\n",
    "plt.xlabel('Order repeat chance')\n",
    "plt.ylabel('Gender_count')\n",
    "# plt.savefig('./plots/performance_count.png')\n",
    "plt.show()"
   ]
  },
  {
   "cell_type": "markdown",
   "metadata": {},
   "source": [
    "#  From above digram we can conclude that Most of the users gender MRS (Female) Female Customers are interseted to repeat the order as well as Buying the Products"
   ]
  },
  {
   "cell_type": "code",
   "execution_count": 54,
   "metadata": {},
   "outputs": [
    {
     "data": {
      "image/png": "[encoded data removed]",
      "text/plain": [
       "<Figure size 1080x432 with 1 Axes>"
      ]
     },
     "metadata": {
      "needs_background": "light"
     },
     "output_type": "display_data"
    }
   ],
   "source": [
    "plt.figure(figsize=(15,6))\n",
    "sns.countplot(x='Color_Code', data=train_base, hue='Order_Repeat_Chance', palette=sns.xkcd_palette([\"azure\", \"light red\"]))\n",
    "plt.title(\"Color wiseorder repeat chance\")\n",
    "plt.xlabel('Order repeat chance')\n",
    "plt.ylabel('Color_count')\n",
    "# plt.savefig('./plots/performance_count.png')\n",
    "plt.show()"
   ]
  },
  {
   "cell_type": "code",
   "execution_count": 228,
   "metadata": {},
   "outputs": [
    {
     "data": {
      "image/png": "[encoded data removed]",
      "text/plain": [
       "<Figure size 1296x720 with 1 Axes>"
      ]
     },
     "metadata": {
      "needs_background": "light"
     },
     "output_type": "display_data"
    }
   ],
   "source": [
    "plt.figure(figsize=(18,10))\n",
    "sns.countplot(x='Customer_Location', data=train_base, hue='Order_Repeat_Chance', palette=sns.xkcd_palette([\"azure\", \"light red\"]))\n",
    "plt.title(\"Location wiseorder repeat chance\")\n",
    "plt.xlabel('Order repeat chance')\n",
    "plt.ylabel('Customer_Location')\n",
    "# plt.savefig('./plots/performance_count.png')\n",
    "plt.show()"
   ]
  },
  {
   "cell_type": "code",
   "execution_count": 56,
   "metadata": {},
   "outputs": [
    {
     "data": {
      "image/png": "[encoded data removed]",
      "text/plain": [
       "<Figure size 1080x432 with 1 Axes>"
      ]
     },
     "metadata": {
      "needs_background": "light"
     },
     "output_type": "display_data"
    }
   ],
   "source": [
    "plt.figure(figsize=(15,6))\n",
    "sns.countplot(x='Product_Category_Reference', data=train_base, hue='Order_Repeat_Chance', palette=sns.xkcd_palette([\"azure\", \"light red\"]))\n",
    "plt.title(\"product wiseorder repeat chance\")\n",
    "plt.xlabel('Order repeat chance')\n",
    "plt.ylabel('Product_Category_Reference')\n",
    "# plt.savefig('./plots/performance_count.png')\n",
    "plt.show()"
   ]
  },
  {
   "cell_type": "code",
   "execution_count": null,
   "metadata": {},
   "outputs": [],
   "source": []
  },
  {
   "cell_type": "code",
   "execution_count": null,
   "metadata": {},
   "outputs": [],
   "source": [
    "train_base.head()"
   ]
  },
  {
   "cell_type": "code",
   "execution_count": 57,
   "metadata": {},
   "outputs": [
    {
     "data": {
      "text/plain": [
       "count    75000.000000\n",
       "mean        41.275227\n",
       "std        106.242908\n",
       "min          1.000000\n",
       "25%         38.000000\n",
       "50%         40.000000\n",
       "75%         44.000000\n",
       "max       4034.000000\n",
       "Name: Size, dtype: float64"
      ]
     },
     "execution_count": 57,
     "metadata": {},
     "output_type": "execute_result"
    }
   ],
   "source": [
    "train_base['Size'].describe()"
   ]
  },
  {
   "cell_type": "code",
   "execution_count": 58,
   "metadata": {},
   "outputs": [
    {
     "data": {
      "text/plain": [
       "Order_Ref_Number                int64\n",
       "Order_Placed_AT                object\n",
       "Order_Delivered_Date           object\n",
       "Product_Ref_ID                  int64\n",
       "Size                            int64\n",
       "Color_Code                     object\n",
       "Product_Category_Reference      int64\n",
       "Cost_to_Customer(USD)         float64\n",
       "Customer_ID                     int64\n",
       "Gender                         object\n",
       "Customer_BirthDate             object\n",
       "Customer_Location              object\n",
       "Customer_Joining_Date          object\n",
       "Order_Repeat_Chance             int64\n",
       "dtype: object"
      ]
     },
     "execution_count": 58,
     "metadata": {},
     "output_type": "execute_result"
    }
   ],
   "source": [
    "train_base.dtypes"
   ]
  },
  {
   "cell_type": "markdown",
   "metadata": {},
   "source": [
    "# BASE MODEL WITH NUMERIC FEATURES "
   ]
  },
  {
   "cell_type": "code",
   "execution_count": 184,
   "metadata": {},
   "outputs": [],
   "source": [
    "# Dropping irrelevant columns\n",
    "\n",
    "\n",
    "\n",
    "train_base.drop(['Order_Ref_Number', 'Order_Placed_AT', 'Order_Delivered_Date',\n",
    "       'Customer_ID', 'Customer_BirthDate','Customer_Joining_Date','Color_Code','Customer_Location'], axis=1, inplace=True)\n"
   ]
  },
  {
   "cell_type": "code",
   "execution_count": 185,
   "metadata": {},
   "outputs": [
    {
     "data": {
      "text/html": [
       "<div>\n",
       "<style scoped>\n",
       "    .dataframe tbody tr th:only-of-type {\n",
       "        vertical-align: middle;\n",
       "    }\n",
       "\n",
       "    .dataframe tbody tr th {\n",
       "        vertical-align: top;\n",
       "    }\n",
       "\n",
       "    .dataframe thead th {\n",
       "        text-align: right;\n",
       "    }\n",
       "</style>\n",
       "<table border=\"1\" class=\"dataframe\">\n",
       "  <thead>\n",
       "    <tr style=\"text-align: right;\">\n",
       "      <th></th>\n",
       "      <th>Product_Ref_ID</th>\n",
       "      <th>Size</th>\n",
       "      <th>Product_Category_Reference</th>\n",
       "      <th>Cost_to_Customer(USD)</th>\n",
       "      <th>Gender</th>\n",
       "      <th>Order_Repeat_Chance</th>\n",
       "    </tr>\n",
       "  </thead>\n",
       "  <tbody>\n",
       "    <tr>\n",
       "      <th>0</th>\n",
       "      <td>897</td>\n",
       "      <td>42</td>\n",
       "      <td>33</td>\n",
       "      <td>19.9</td>\n",
       "      <td>Mrs</td>\n",
       "      <td>0</td>\n",
       "    </tr>\n",
       "    <tr>\n",
       "      <th>1</th>\n",
       "      <td>1557</td>\n",
       "      <td>45</td>\n",
       "      <td>31</td>\n",
       "      <td>89.9</td>\n",
       "      <td>Mrs</td>\n",
       "      <td>1</td>\n",
       "    </tr>\n",
       "    <tr>\n",
       "      <th>2</th>\n",
       "      <td>292</td>\n",
       "      <td>4</td>\n",
       "      <td>4</td>\n",
       "      <td>64.9</td>\n",
       "      <td>Mrs</td>\n",
       "      <td>0</td>\n",
       "    </tr>\n",
       "    <tr>\n",
       "      <th>3</th>\n",
       "      <td>1445</td>\n",
       "      <td>48</td>\n",
       "      <td>29</td>\n",
       "      <td>59.9</td>\n",
       "      <td>Mrs</td>\n",
       "      <td>0</td>\n",
       "    </tr>\n",
       "    <tr>\n",
       "      <th>4</th>\n",
       "      <td>1415</td>\n",
       "      <td>39</td>\n",
       "      <td>3</td>\n",
       "      <td>21.9</td>\n",
       "      <td>Mrs</td>\n",
       "      <td>0</td>\n",
       "    </tr>\n",
       "  </tbody>\n",
       "</table>\n",
       "</div>"
      ],
      "text/plain": [
       "   Product_Ref_ID  Size  Product_Category_Reference  Cost_to_Customer(USD)  \\\n",
       "0             897    42                          33                   19.9   \n",
       "1            1557    45                          31                   89.9   \n",
       "2             292     4                           4                   64.9   \n",
       "3            1445    48                          29                   59.9   \n",
       "4            1415    39                           3                   21.9   \n",
       "\n",
       "  Gender  Order_Repeat_Chance  \n",
       "0    Mrs                    0  \n",
       "1    Mrs                    1  \n",
       "2    Mrs                    0  \n",
       "3    Mrs                    0  \n",
       "4    Mrs                    0  "
      ]
     },
     "execution_count": 185,
     "metadata": {},
     "output_type": "execute_result"
    }
   ],
   "source": [
    "train_base.head()"
   ]
  },
  {
   "cell_type": "code",
   "execution_count": 141,
   "metadata": {},
   "outputs": [
    {
     "data": {
      "text/plain": [
       "Size                            int64\n",
       "Product_Category_Reference      int64\n",
       "Cost_to_Customer(USD)         float64\n",
       "Gender                         object\n",
       "Order_Repeat_Chance             int64\n",
       "dtype: object"
      ]
     },
     "execution_count": 141,
     "metadata": {},
     "output_type": "execute_result"
    }
   ],
   "source": [
    "#pd.get_dummies(train_base, prefix=['Color_Code', 'Gender','Customer_Location'])\n",
    "\n",
    "#train_base['Size'] = train_base['Size'].apply(pd.to_numeric, errors='coerce')\n",
    "\n",
    "train_base.dtypes"
   ]
  },
  {
   "cell_type": "code",
   "execution_count": 186,
   "metadata": {},
   "outputs": [],
   "source": [
    "train_base = pd.get_dummies(train_base, columns=['Gender'])"
   ]
  },
  {
   "cell_type": "code",
   "execution_count": 187,
   "metadata": {},
   "outputs": [
    {
     "data": {
      "text/plain": [
       "<matplotlib.axes._subplots.AxesSubplot at 0x29dbd486a20>"
      ]
     },
     "execution_count": 187,
     "metadata": {},
     "output_type": "execute_result"
    },
    {
     "data": {
      "image/png": "[encoded data removed]",
      "text/plain": [
       "<Figure size 432x288 with 2 Axes>"
      ]
     },
     "metadata": {
      "needs_background": "light"
     },
     "output_type": "display_data"
    }
   ],
   "source": [
    "#correlation plot\n",
    "corr = train_base.corr()\n",
    "sns.heatmap(corr)"
   ]
  },
  {
   "cell_type": "code",
   "execution_count": 188,
   "metadata": {},
   "outputs": [
    {
     "name": "stdout",
     "output_type": "stream",
     "text": [
      "Order_Repeat_Chance           1.000000\n",
      "Cost_to_Customer(USD)         0.140703\n",
      "Product_Ref_ID                0.051865\n",
      "Product_Category_Reference    0.024788\n",
      "Gender_Mrs                    0.016922\n",
      "Gender_Company                0.015259\n",
      "Size                         -0.009616\n",
      "Gender_not reported          -0.010530\n",
      "Gender_Family                -0.010559\n",
      "Gender_Mr                    -0.015559\n",
      "Name: Order_Repeat_Chance, dtype: float64 \n",
      "\n",
      "----------------------\n",
      "Gender_Company         0.015259\n",
      "Size                  -0.009616\n",
      "Gender_not reported   -0.010530\n",
      "Gender_Family         -0.010559\n",
      "Gender_Mr             -0.015559\n",
      "Name: Order_Repeat_Chance, dtype: float64\n"
     ]
    }
   ],
   "source": [
    "print (corr['Order_Repeat_Chance'].sort_values(ascending=False)[:30], '\\n') #top 15 values\n",
    "print ('----------------------')\n",
    "print (corr['Order_Repeat_Chance'].sort_values(ascending=False)[-5:]) #last 5 values"
   ]
  },
  {
   "cell_type": "markdown",
   "metadata": {},
   "source": [
    "# No correlation between target variable and dependent variable"
   ]
  },
  {
   "cell_type": "markdown",
   "metadata": {},
   "source": [
    "#BASE MODEL"
   ]
  },
  {
   "cell_type": "code",
   "execution_count": 189,
   "metadata": {},
   "outputs": [],
   "source": [
    "X = train_base.drop(['Order_Repeat_Chance'], axis=1)\n",
    "y = train_base['Order_Repeat_Chance']"
   ]
  },
  {
   "cell_type": "code",
   "execution_count": 190,
   "metadata": {},
   "outputs": [],
   "source": [
    "\n",
    "scaler = StandardScaler()\n",
    "\n",
    "X = scaler.fit_transform(X)"
   ]
  },
  {
   "cell_type": "code",
   "execution_count": 191,
   "metadata": {},
   "outputs": [],
   "source": [
    "\n",
    "X_train, X_test, y_train, y_test = train_test_split(X, y, test_size=0.3, random_state=42)"
   ]
  },
  {
   "cell_type": "code",
   "execution_count": 67,
   "metadata": {},
   "outputs": [],
   "source": [
    "cv = StratifiedShuffleSplit(n_splits=10, test_size=.30, random_state=15)"
   ]
  },
  {
   "cell_type": "code",
   "execution_count": 68,
   "metadata": {},
   "outputs": [
    {
     "name": "stdout",
     "output_type": "stream",
     "text": [
      "Fitting 10 folds for each of 36 candidates, totalling 360 fits\n"
     ]
    },
    {
     "name": "stderr",
     "output_type": "stream",
     "text": [
      "[Parallel(n_jobs=-1)]: Using backend LokyBackend with 8 concurrent workers.\n",
      "[Parallel(n_jobs=-1)]: Done  34 tasks      | elapsed:   15.7s\n",
      "[Parallel(n_jobs=-1)]: Done 184 tasks      | elapsed:   55.3s\n",
      "[Parallel(n_jobs=-1)]: Done 360 out of 360 | elapsed:  1.0min finished\n"
     ]
    },
    {
     "data": {
      "text/plain": [
       "GridSearchCV(cv=StratifiedShuffleSplit(n_splits=10, random_state=15, test_size=0.3,\n",
       "            train_size=None),\n",
       "             error_score='raise-deprecating',\n",
       "             estimator=LogisticRegression(C=1.0, class_weight=None, dual=False,\n",
       "                                          fit_intercept=True,\n",
       "                                          intercept_scaling=1, l1_ratio=None,\n",
       "                                          max_iter=100, multi_class='warn',\n",
       "                                          n_jobs=None, penalty='l2',\n",
       "                                          random_state=None, solver='liblinear',\n",
       "                                          tol=0.0001, verbose=0,\n",
       "                                          warm_start=False),\n",
       "             iid='warn', n_jobs=-1,\n",
       "             param_grid={'C': [0.2, 0.3, 0.4, 0.5, 0.6, 0.7, 0.8, 0.9, 1, 2, 3,\n",
       "                               4, 5, 6, 7, 8, 9, 10],\n",
       "                         'penalty': ['l1', 'l2']},\n",
       "             pre_dispatch='2*n_jobs', refit=True, return_train_score=False,\n",
       "             scoring='accuracy', verbose=1)"
      ]
     },
     "execution_count": 68,
     "metadata": {},
     "output_type": "execute_result"
    }
   ],
   "source": [
    "# Building our model with K-fold validation and GridSearch to find the best parameters\n",
    "\n",
    "# Defining all the parameters\n",
    "params = {\n",
    "    'penalty': ['l1','l2'],\n",
    "    'C': [0.2,0.3,0.4,0.5,0.6,0.7,0.8,0.9,1,2,3,4,5,6,7,8,9,10]\n",
    "}\n",
    "\n",
    "# Building model\n",
    "logreg = LogisticRegression(solver='liblinear')\n",
    "\n",
    "# Parameter estimating using GridSearch\n",
    "grid = GridSearchCV(logreg, param_grid=params, scoring='accuracy', n_jobs =-1, cv=cv, verbose=1)\n",
    "\n",
    "# Fitting the model\n",
    "grid.fit(X_train, y_train)"
   ]
  },
  {
   "cell_type": "code",
   "execution_count": 69,
   "metadata": {},
   "outputs": [
    {
     "name": "stdout",
     "output_type": "stream",
     "text": [
      "Best Score: 0.5640698412698413\n",
      "Best Params: {'C': 0.3, 'penalty': 'l2'}\n",
      "Best Estimator: LogisticRegression(C=0.3, class_weight=None, dual=False, fit_intercept=True,\n",
      "                   intercept_scaling=1, l1_ratio=None, max_iter=100,\n",
      "                   multi_class='warn', n_jobs=None, penalty='l2',\n",
      "                   random_state=None, solver='liblinear', tol=0.0001, verbose=0,\n",
      "                   warm_start=False)\n"
     ]
    }
   ],
   "source": [
    "logreg_grid_val_score = grid.best_score_\n",
    "print('Best Score:', logreg_grid_val_score)\n",
    "print('Best Params:', grid.best_params_)\n",
    "print('Best Estimator:', grid.best_estimator_)"
   ]
  },
  {
   "cell_type": "markdown",
   "metadata": {},
   "source": [
    "# Without any feature Enginnering using numeric fetures getting 55% accuracy it's good"
   ]
  },
  {
   "cell_type": "markdown",
   "metadata": {},
   "source": [
    "#Decision Tress MOdel"
   ]
  },
  {
   "cell_type": "code",
   "execution_count": 192,
   "metadata": {},
   "outputs": [],
   "source": [
    "from xgboost import XGBClassifier\n",
    "model = XGBClassifier(learning_rate =0.1,\n",
    "                    n_estimators=1000,\n",
    "                    max_depth=5,\n",
    "                    min_child_weight=1,\n",
    "                    gamma=1.2,\n",
    "                    subsample=0.9,\n",
    "                    colsample_bytree=0.6,\n",
    "                    scale_pos_weight=1,\n",
    "                    seed=27).fit(X_train,y_train)"
   ]
  },
  {
   "cell_type": "code",
   "execution_count": 193,
   "metadata": {},
   "outputs": [],
   "source": [
    "\n",
    "y_pred = model.predict(X_test)"
   ]
  },
  {
   "cell_type": "code",
   "execution_count": 194,
   "metadata": {},
   "outputs": [
    {
     "data": {
      "text/plain": [
       "13813"
      ]
     },
     "execution_count": 194,
     "metadata": {},
     "output_type": "execute_result"
    }
   ],
   "source": [
    "\n",
    "accuracy_score(y_test, y_pred, normalize=False)"
   ]
  },
  {
   "cell_type": "code",
   "execution_count": 195,
   "metadata": {},
   "outputs": [
    {
     "data": {
      "text/plain": [
       "array([[8213, 4064],\n",
       "       [4623, 5600]], dtype=int64)"
      ]
     },
     "execution_count": 195,
     "metadata": {},
     "output_type": "execute_result"
    }
   ],
   "source": [
    "confusion_matrix(y_test, y_pred)\n"
   ]
  },
  {
   "cell_type": "code",
   "execution_count": 196,
   "metadata": {},
   "outputs": [
    {
     "data": {
      "text/plain": [
       "0.5794701986754967"
      ]
     },
     "execution_count": 196,
     "metadata": {},
     "output_type": "execute_result"
    }
   ],
   "source": [
    "\n",
    "from sklearn.metrics import precision_score\n",
    "precision_score(y_test, y_pred)\n"
   ]
  },
  {
   "cell_type": "markdown",
   "metadata": {},
   "source": [
    "#While Using DT based model getting good accuracy on model so while go further we can stick with XGboost Model"
   ]
  },
  {
   "cell_type": "code",
   "execution_count": 105,
   "metadata": {},
   "outputs": [
    {
     "data": {
      "text/html": [
       "<div>\n",
       "<style scoped>\n",
       "    .dataframe tbody tr th:only-of-type {\n",
       "        vertical-align: middle;\n",
       "    }\n",
       "\n",
       "    .dataframe tbody tr th {\n",
       "        vertical-align: top;\n",
       "    }\n",
       "\n",
       "    .dataframe thead th {\n",
       "        text-align: right;\n",
       "    }\n",
       "</style>\n",
       "<table border=\"1\" class=\"dataframe\">\n",
       "  <thead>\n",
       "    <tr style=\"text-align: right;\">\n",
       "      <th></th>\n",
       "      <th>Product_Ref_ID</th>\n",
       "      <th>Size</th>\n",
       "      <th>Product_Category_Reference</th>\n",
       "      <th>Cost_to_Customer(USD)</th>\n",
       "      <th>Order_Repeat_Chance</th>\n",
       "      <th>Gender_Company</th>\n",
       "      <th>Gender_Family</th>\n",
       "      <th>Gender_Mr</th>\n",
       "      <th>Gender_Mrs</th>\n",
       "      <th>Gender_not reported</th>\n",
       "    </tr>\n",
       "  </thead>\n",
       "  <tbody>\n",
       "    <tr>\n",
       "      <th>0</th>\n",
       "      <td>897</td>\n",
       "      <td>42</td>\n",
       "      <td>33</td>\n",
       "      <td>19.9</td>\n",
       "      <td>0</td>\n",
       "      <td>0</td>\n",
       "      <td>0</td>\n",
       "      <td>0</td>\n",
       "      <td>1</td>\n",
       "      <td>0</td>\n",
       "    </tr>\n",
       "    <tr>\n",
       "      <th>1</th>\n",
       "      <td>1557</td>\n",
       "      <td>45</td>\n",
       "      <td>31</td>\n",
       "      <td>89.9</td>\n",
       "      <td>1</td>\n",
       "      <td>0</td>\n",
       "      <td>0</td>\n",
       "      <td>0</td>\n",
       "      <td>1</td>\n",
       "      <td>0</td>\n",
       "    </tr>\n",
       "    <tr>\n",
       "      <th>2</th>\n",
       "      <td>292</td>\n",
       "      <td>4</td>\n",
       "      <td>4</td>\n",
       "      <td>64.9</td>\n",
       "      <td>0</td>\n",
       "      <td>0</td>\n",
       "      <td>0</td>\n",
       "      <td>0</td>\n",
       "      <td>1</td>\n",
       "      <td>0</td>\n",
       "    </tr>\n",
       "    <tr>\n",
       "      <th>3</th>\n",
       "      <td>1445</td>\n",
       "      <td>48</td>\n",
       "      <td>29</td>\n",
       "      <td>59.9</td>\n",
       "      <td>0</td>\n",
       "      <td>0</td>\n",
       "      <td>0</td>\n",
       "      <td>0</td>\n",
       "      <td>1</td>\n",
       "      <td>0</td>\n",
       "    </tr>\n",
       "    <tr>\n",
       "      <th>4</th>\n",
       "      <td>1415</td>\n",
       "      <td>39</td>\n",
       "      <td>3</td>\n",
       "      <td>21.9</td>\n",
       "      <td>0</td>\n",
       "      <td>0</td>\n",
       "      <td>0</td>\n",
       "      <td>0</td>\n",
       "      <td>1</td>\n",
       "      <td>0</td>\n",
       "    </tr>\n",
       "  </tbody>\n",
       "</table>\n",
       "</div>"
      ],
      "text/plain": [
       "   Product_Ref_ID  Size  Product_Category_Reference  Cost_to_Customer(USD)  \\\n",
       "0             897    42                          33                   19.9   \n",
       "1            1557    45                          31                   89.9   \n",
       "2             292     4                           4                   64.9   \n",
       "3            1445    48                          29                   59.9   \n",
       "4            1415    39                           3                   21.9   \n",
       "\n",
       "   Order_Repeat_Chance  Gender_Company  Gender_Family  Gender_Mr  Gender_Mrs  \\\n",
       "0                    0               0              0          0           1   \n",
       "1                    1               0              0          0           1   \n",
       "2                    0               0              0          0           1   \n",
       "3                    0               0              0          0           1   \n",
       "4                    0               0              0          0           1   \n",
       "\n",
       "   Gender_not reported  \n",
       "0                    0  \n",
       "1                    0  \n",
       "2                    0  \n",
       "3                    0  \n",
       "4                    0  "
      ]
     },
     "execution_count": 105,
     "metadata": {},
     "output_type": "execute_result"
    }
   ],
   "source": [
    "train_base.head()"
   ]
  },
  {
   "cell_type": "markdown",
   "metadata": {},
   "source": [
    "# While converting strings into numeric in Size Feature we are simply replace the UNSIZED string with  1 so we can check further processing based on other columns"
   ]
  },
  {
   "cell_type": "code",
   "execution_count": 201,
   "metadata": {},
   "outputs": [],
   "source": [
    "train_df = train_base.copy()\n",
    "test_df = test_data.copy()"
   ]
  },
  {
   "cell_type": "code",
   "execution_count": 205,
   "metadata": {},
   "outputs": [],
   "source": [
    "\n",
    "train_df[[\"Order_Placed_AT\", \"Order_Delivered_Date\", \"Customer_BirthDate\"]] = train_df[[\"Order_Placed_AT\", \"Order_Delivered_Date\", \"Customer_BirthDate\"]].apply(pd.to_datetime)   \n",
    "test_df[[\"Order_Placed_AT\", \"Order_Delivered_Date\", \"Customer_BirthDate\"]] = test_df[[\"Order_Placed_AT\", \"Order_Delivered_Date\", \"Customer_BirthDate\"]].apply(pd.to_datetime)            \n"
   ]
  },
  {
   "cell_type": "code",
   "execution_count": 212,
   "metadata": {},
   "outputs": [],
   "source": [
    "#df['C'] = (df['B'] - df['A']).dt.days\n",
    "\n",
    "train_df['Order_delivered_Time'] = (train_df['Order_Delivered_Date']- train_df['Order_Placed_AT']).dt.days\n",
    "test_df['Order_delivered_Time'] = (test_df['Order_Delivered_Date']-test_df['Order_Placed_AT']).dt.days"
   ]
  },
  {
   "cell_type": "code",
   "execution_count": 213,
   "metadata": {},
   "outputs": [
    {
     "data": {
      "text/html": [
       "<div>\n",
       "<style scoped>\n",
       "    .dataframe tbody tr th:only-of-type {\n",
       "        vertical-align: middle;\n",
       "    }\n",
       "\n",
       "    .dataframe tbody tr th {\n",
       "        vertical-align: top;\n",
       "    }\n",
       "\n",
       "    .dataframe thead th {\n",
       "        text-align: right;\n",
       "    }\n",
       "</style>\n",
       "<table border=\"1\" class=\"dataframe\">\n",
       "  <thead>\n",
       "    <tr style=\"text-align: right;\">\n",
       "      <th></th>\n",
       "      <th>Order_Ref_Number</th>\n",
       "      <th>Order_Placed_AT</th>\n",
       "      <th>Order_Delivered_Date</th>\n",
       "      <th>Product_Ref_ID</th>\n",
       "      <th>Size</th>\n",
       "      <th>Color_Code</th>\n",
       "      <th>Product_Category_Reference</th>\n",
       "      <th>Cost_to_Customer(USD)</th>\n",
       "      <th>Customer_ID</th>\n",
       "      <th>Gender</th>\n",
       "      <th>Customer_BirthDate</th>\n",
       "      <th>Customer_Location</th>\n",
       "      <th>Customer_Joining_Date</th>\n",
       "      <th>Order_Repeat_Chance</th>\n",
       "      <th>Order_delivered_Time</th>\n",
       "    </tr>\n",
       "  </thead>\n",
       "  <tbody>\n",
       "    <tr>\n",
       "      <th>0</th>\n",
       "      <td>98981</td>\n",
       "      <td>2016-09-10</td>\n",
       "      <td>2016-09-11</td>\n",
       "      <td>897</td>\n",
       "      <td>42</td>\n",
       "      <td>grey</td>\n",
       "      <td>33</td>\n",
       "      <td>19.9</td>\n",
       "      <td>48040</td>\n",
       "      <td>Mrs</td>\n",
       "      <td>1960-05-30</td>\n",
       "      <td>Hamburg</td>\n",
       "      <td>2015-02-17</td>\n",
       "      <td>0</td>\n",
       "      <td>1.0</td>\n",
       "    </tr>\n",
       "    <tr>\n",
       "      <th>1</th>\n",
       "      <td>69825</td>\n",
       "      <td>2016-08-15</td>\n",
       "      <td>2016-08-20</td>\n",
       "      <td>1557</td>\n",
       "      <td>45</td>\n",
       "      <td>petrol</td>\n",
       "      <td>31</td>\n",
       "      <td>89.9</td>\n",
       "      <td>42892</td>\n",
       "      <td>Mrs</td>\n",
       "      <td>1958-09-23</td>\n",
       "      <td>Lower Saxony</td>\n",
       "      <td>2015-11-14</td>\n",
       "      <td>1</td>\n",
       "      <td>5.0</td>\n",
       "    </tr>\n",
       "    <tr>\n",
       "      <th>2</th>\n",
       "      <td>9929</td>\n",
       "      <td>2016-06-27</td>\n",
       "      <td>2016-07-02</td>\n",
       "      <td>292</td>\n",
       "      <td>4</td>\n",
       "      <td>grey</td>\n",
       "      <td>4</td>\n",
       "      <td>64.9</td>\n",
       "      <td>32479</td>\n",
       "      <td>Mrs</td>\n",
       "      <td>1961-09-19</td>\n",
       "      <td>Hesse</td>\n",
       "      <td>2016-06-28</td>\n",
       "      <td>0</td>\n",
       "      <td>5.0</td>\n",
       "    </tr>\n",
       "    <tr>\n",
       "      <th>3</th>\n",
       "      <td>75600</td>\n",
       "      <td>2016-08-21</td>\n",
       "      <td>2016-08-22</td>\n",
       "      <td>1445</td>\n",
       "      <td>48</td>\n",
       "      <td>grey</td>\n",
       "      <td>29</td>\n",
       "      <td>59.9</td>\n",
       "      <td>4216</td>\n",
       "      <td>Mrs</td>\n",
       "      <td>1952-10-01</td>\n",
       "      <td>Lower Saxony</td>\n",
       "      <td>2015-02-17</td>\n",
       "      <td>0</td>\n",
       "      <td>1.0</td>\n",
       "    </tr>\n",
       "    <tr>\n",
       "      <th>4</th>\n",
       "      <td>95622</td>\n",
       "      <td>2016-09-06</td>\n",
       "      <td>2016-09-07</td>\n",
       "      <td>1415</td>\n",
       "      <td>39</td>\n",
       "      <td>mahagoni</td>\n",
       "      <td>3</td>\n",
       "      <td>21.9</td>\n",
       "      <td>39571</td>\n",
       "      <td>Mrs</td>\n",
       "      <td>1963-10-30</td>\n",
       "      <td>North Rhine-Westphalia</td>\n",
       "      <td>2015-10-02</td>\n",
       "      <td>0</td>\n",
       "      <td>1.0</td>\n",
       "    </tr>\n",
       "  </tbody>\n",
       "</table>\n",
       "</div>"
      ],
      "text/plain": [
       "   Order_Ref_Number Order_Placed_AT Order_Delivered_Date  Product_Ref_ID  \\\n",
       "0             98981      2016-09-10           2016-09-11             897   \n",
       "1             69825      2016-08-15           2016-08-20            1557   \n",
       "2              9929      2016-06-27           2016-07-02             292   \n",
       "3             75600      2016-08-21           2016-08-22            1445   \n",
       "4             95622      2016-09-06           2016-09-07            1415   \n",
       "\n",
       "   Size Color_Code  Product_Category_Reference  Cost_to_Customer(USD)  \\\n",
       "0    42       grey                          33                   19.9   \n",
       "1    45     petrol                          31                   89.9   \n",
       "2     4       grey                           4                   64.9   \n",
       "3    48       grey                          29                   59.9   \n",
       "4    39   mahagoni                           3                   21.9   \n",
       "\n",
       "   Customer_ID Gender Customer_BirthDate       Customer_Location  \\\n",
       "0        48040    Mrs         1960-05-30                 Hamburg   \n",
       "1        42892    Mrs         1958-09-23            Lower Saxony   \n",
       "2        32479    Mrs         1961-09-19                   Hesse   \n",
       "3         4216    Mrs         1952-10-01            Lower Saxony   \n",
       "4        39571    Mrs         1963-10-30  North Rhine-Westphalia   \n",
       "\n",
       "  Customer_Joining_Date  Order_Repeat_Chance  Order_delivered_Time  \n",
       "0            2015-02-17                    0                   1.0  \n",
       "1            2015-11-14                    1                   5.0  \n",
       "2            2016-06-28                    0                   5.0  \n",
       "3            2015-02-17                    0                   1.0  \n",
       "4            2015-10-02                    0                   1.0  "
      ]
     },
     "execution_count": 213,
     "metadata": {},
     "output_type": "execute_result"
    }
   ],
   "source": [
    "train_df.head()"
   ]
  },
  {
   "cell_type": "code",
   "execution_count": 214,
   "metadata": {},
   "outputs": [
    {
     "data": {
      "text/plain": [
       "Order_Ref_Number                       int64\n",
       "Order_Placed_AT               datetime64[ns]\n",
       "Order_Delivered_Date          datetime64[ns]\n",
       "Product_Ref_ID                         int64\n",
       "Size                                   int64\n",
       "Color_Code                            object\n",
       "Product_Category_Reference             int64\n",
       "Cost_to_Customer(USD)                float64\n",
       "Customer_ID                            int64\n",
       "Gender                                object\n",
       "Customer_BirthDate            datetime64[ns]\n",
       "Customer_Location                     object\n",
       "Customer_Joining_Date                 object\n",
       "Order_Repeat_Chance                    int64\n",
       "Order_delivered_Time                 float64\n",
       "dtype: object"
      ]
     },
     "execution_count": 214,
     "metadata": {},
     "output_type": "execute_result"
    }
   ],
   "source": [
    "train_df.dtypes"
   ]
  },
  {
   "cell_type": "code",
   "execution_count": 215,
   "metadata": {},
   "outputs": [],
   "source": [
    "train_df['Order_delivered_Time'] = train_df['Order_delivered_Time'].apply(pd.to_numeric)\n",
    "test_df['Order_delivered_Time'] =  test_df['Order_delivered_Time'].apply(pd.to_numeric)"
   ]
  },
  {
   "cell_type": "code",
   "execution_count": 233,
   "metadata": {},
   "outputs": [
    {
     "data": {
      "text/plain": [
       "Order_Ref_Number                       int64\n",
       "Order_Placed_AT               datetime64[ns]\n",
       "Order_Delivered_Date          datetime64[ns]\n",
       "Product_Ref_ID                         int64\n",
       "Size                                 float64\n",
       "Color_Code                            object\n",
       "Product_Category_Reference             int64\n",
       "Cost_to_Customer(USD)                float64\n",
       "Customer_ID                            int64\n",
       "Gender                                object\n",
       "Customer_BirthDate            datetime64[ns]\n",
       "Customer_Location                     object\n",
       "Customer_Joining_Date                 object\n",
       "Order_Repeat_Chance                    int64\n",
       "Order_delivered_Time                 float64\n",
       "dtype: object"
      ]
     },
     "execution_count": 233,
     "metadata": {},
     "output_type": "execute_result"
    }
   ],
   "source": [
    "train_df.dtypes"
   ]
  },
  {
   "cell_type": "code",
   "execution_count": 219,
   "metadata": {},
   "outputs": [],
   "source": [
    "#sub2['income'] = sub2['income'].fillna((sub2['income'].mean()))\n",
    "\n",
    "\n",
    "train_df['Order_delivered_Time'] = train_df['Order_delivered_Time'].fillna((train_df['Order_delivered_Time'].mean()))\n",
    "test_df['Order_delivered_Time'] =  test_df['Order_delivered_Time'].fillna((test_df['Order_delivered_Time'].mean()))"
   ]
  },
  {
   "cell_type": "code",
   "execution_count": 220,
   "metadata": {},
   "outputs": [
    {
     "data": {
      "text/plain": [
       "<matplotlib.axes._subplots.AxesSubplot at 0x29dba77ddd8>"
      ]
     },
     "execution_count": 220,
     "metadata": {},
     "output_type": "execute_result"
    },
    {
     "data": {
      "image/png": "[encoded data removed]",
      "text/plain": [
       "<Figure size 432x288 with 1 Axes>"
      ]
     },
     "metadata": {
      "needs_background": "light"
     },
     "output_type": "display_data"
    }
   ],
   "source": [
    "sns.distplot(train_df['Order_delivered_Time'])"
   ]
  },
  {
   "cell_type": "code",
   "execution_count": 221,
   "metadata": {},
   "outputs": [
    {
     "data": {
      "text/plain": [
       " 2.000000       14219\n",
       " 3.000000       12768\n",
       " 1.000000       12472\n",
       " 4.000000        9395\n",
       "-85.402801       7021\n",
       " 5.000000        3777\n",
       " 6.000000        1171\n",
       " 7.000000         879\n",
       " 8.000000         694\n",
       " 9.000000         641\n",
       " 11.000000        591\n",
       " 10.000000        555\n",
       " 12.000000        479\n",
       " 13.000000        440\n",
       " 19.000000        440\n",
       " 14.000000        415\n",
       " 21.000000        413\n",
       " 17.000000        399\n",
       " 18.000000        379\n",
       " 20.000000        376\n",
       " 15.000000        368\n",
       " 16.000000        343\n",
       " 22.000000        277\n",
       " 23.000000        272\n",
       " 0.000000         263\n",
       " 24.000000        234\n",
       " 25.000000        204\n",
       " 26.000000        188\n",
       " 28.000000        174\n",
       " 30.000000        163\n",
       "                ...  \n",
       "-7845.000000        3\n",
       " 112.000000         3\n",
       "-7920.000000        3\n",
       "-7915.000000        3\n",
       "-7918.000000        3\n",
       " 122.000000         2\n",
       "-7899.000000        2\n",
       " 135.000000         2\n",
       " 113.000000         2\n",
       "-7909.000000        2\n",
       "-7907.000000        2\n",
       "-7922.000000        2\n",
       " 114.000000         2\n",
       "-7858.000000        2\n",
       " 110.000000         2\n",
       " 139.000000         1\n",
       "-7902.000000        1\n",
       "-7901.000000        1\n",
       "-7846.000000        1\n",
       "-7859.000000        1\n",
       " 108.000000         1\n",
       " 125.000000         1\n",
       "-7861.000000        1\n",
       " 153.000000         1\n",
       "-7875.000000        1\n",
       "-7873.000000        1\n",
       " 126.000000         1\n",
       "-7871.000000        1\n",
       "-7870.000000        1\n",
       " 118.000000         1\n",
       "Name: Order_delivered_Time, Length: 199, dtype: int64"
      ]
     },
     "execution_count": 221,
     "metadata": {},
     "output_type": "execute_result"
    }
   ],
   "source": [
    "train_df['Order_delivered_Time'].value_counts()"
   ]
  },
  {
   "cell_type": "code",
   "execution_count": 223,
   "metadata": {},
   "outputs": [
    {
     "data": {
      "image/png": "[encoded data removed]",
      "text/plain": [
       "<Figure size 1152x720 with 1 Axes>"
      ]
     },
     "metadata": {
      "needs_background": "light"
     },
     "output_type": "display_data"
    }
   ],
   "source": [
    "plt.figure(figsize=(16,10))\n",
    "sns.countplot(x='Order_delivered_Time', data=train_df, hue='Order_Repeat_Chance', palette=sns.xkcd_palette([\"azure\", \"light red\"]))\n",
    "plt.title(\"Gender wise order repeat chance\")\n",
    "plt.xlabel('Order repeat chance')\n",
    "plt.ylabel('Gender_count')\n",
    "# plt.savefig('./plots/performance_count.png')\n",
    "plt.show()"
   ]
  },
  {
   "cell_type": "code",
   "execution_count": 224,
   "metadata": {},
   "outputs": [
    {
     "data": {
      "text/plain": [
       "North Rhine-Westphalia           17083\n",
       "Lower Saxony                     11401\n",
       "Bavaria                          10244\n",
       "Baden-Wuerttemberg                8992\n",
       "Hesse                             5689\n",
       "Schleswig-Holstein                4126\n",
       "Rhineland-Palatinate              3547\n",
       "Berlin                            3079\n",
       "Saxony                            2393\n",
       "Hamburg                           1923\n",
       "Brandenburg                       1677\n",
       "Mecklenburg-Western Pomerania     1208\n",
       "Thuringia                         1162\n",
       "Bremen                             976\n",
       "Saxony-Anhalt                      833\n",
       "Saarland                           667\n",
       "Name: Customer_Location, dtype: int64"
      ]
     },
     "execution_count": 224,
     "metadata": {},
     "output_type": "execute_result"
    }
   ],
   "source": [
    "train_df['Customer_Location'].value_counts()"
   ]
  },
  {
   "cell_type": "code",
   "execution_count": 234,
   "metadata": {},
   "outputs": [],
   "source": [
    "train_df.Size = train_df.Size.astype(int)"
   ]
  },
  {
   "cell_type": "markdown",
   "metadata": {},
   "source": [
    "#All the states belong to German Country "
   ]
  },
  {
   "cell_type": "code",
   "execution_count": 237,
   "metadata": {},
   "outputs": [
    {
     "data": {
      "text/plain": [
       "Index(['Order_Ref_Number', 'Order_Placed_AT', 'Order_Delivered_Date',\n",
       "       'Product_Ref_ID', 'Size', 'Color_Code', 'Product_Category_Reference',\n",
       "       'Cost_to_Customer(USD)', 'Customer_ID', 'Gender', 'Customer_BirthDate',\n",
       "       'Customer_Location', 'Customer_Joining_Date', 'Order_Repeat_Chance',\n",
       "       'Order_delivered_Time'],\n",
       "      dtype='object')"
      ]
     },
     "execution_count": 237,
     "metadata": {},
     "output_type": "execute_result"
    }
   ],
   "source": [
    "train_df.columns"
   ]
  },
  {
   "cell_type": "markdown",
   "metadata": {},
   "source": [
    "## One-Hot Encoding categorical features"
   ]
  },
  {
   "cell_type": "code",
   "execution_count": 238,
   "metadata": {},
   "outputs": [],
   "source": [
    "train_df = pd.get_dummies(train_df, columns=['Gender','Customer_Location','Color_Code'])\n",
    "\n",
    "test_df = pd.get_dummies(test_df, columns=['Gender','Customer_Location','Color_Code'])"
   ]
  },
  {
   "cell_type": "code",
   "execution_count": 239,
   "metadata": {},
   "outputs": [
    {
     "data": {
      "text/html": [
       "<div>\n",
       "<style scoped>\n",
       "    .dataframe tbody tr th:only-of-type {\n",
       "        vertical-align: middle;\n",
       "    }\n",
       "\n",
       "    .dataframe tbody tr th {\n",
       "        vertical-align: top;\n",
       "    }\n",
       "\n",
       "    .dataframe thead th {\n",
       "        text-align: right;\n",
       "    }\n",
       "</style>\n",
       "<table border=\"1\" class=\"dataframe\">\n",
       "  <thead>\n",
       "    <tr style=\"text-align: right;\">\n",
       "      <th></th>\n",
       "      <th>Order_Ref_Number</th>\n",
       "      <th>Order_Placed_AT</th>\n",
       "      <th>Order_Delivered_Date</th>\n",
       "      <th>Product_Ref_ID</th>\n",
       "      <th>Size</th>\n",
       "      <th>Product_Category_Reference</th>\n",
       "      <th>Cost_to_Customer(USD)</th>\n",
       "      <th>Customer_ID</th>\n",
       "      <th>Customer_BirthDate</th>\n",
       "      <th>Customer_Joining_Date</th>\n",
       "      <th>...</th>\n",
       "      <th>Color_Code_pink</th>\n",
       "      <th>Color_Code_purple</th>\n",
       "      <th>Color_Code_red</th>\n",
       "      <th>Color_Code_silver</th>\n",
       "      <th>Color_Code_stained</th>\n",
       "      <th>Color_Code_striped</th>\n",
       "      <th>Color_Code_terracotta</th>\n",
       "      <th>Color_Code_turquoise</th>\n",
       "      <th>Color_Code_white</th>\n",
       "      <th>Color_Code_yellow</th>\n",
       "    </tr>\n",
       "  </thead>\n",
       "  <tbody>\n",
       "    <tr>\n",
       "      <th>0</th>\n",
       "      <td>98981</td>\n",
       "      <td>2016-09-10</td>\n",
       "      <td>2016-09-11</td>\n",
       "      <td>897</td>\n",
       "      <td>42</td>\n",
       "      <td>33</td>\n",
       "      <td>19.9</td>\n",
       "      <td>48040</td>\n",
       "      <td>1960-05-30</td>\n",
       "      <td>2015-02-17</td>\n",
       "      <td>...</td>\n",
       "      <td>0</td>\n",
       "      <td>0</td>\n",
       "      <td>0</td>\n",
       "      <td>0</td>\n",
       "      <td>0</td>\n",
       "      <td>0</td>\n",
       "      <td>0</td>\n",
       "      <td>0</td>\n",
       "      <td>0</td>\n",
       "      <td>0</td>\n",
       "    </tr>\n",
       "    <tr>\n",
       "      <th>1</th>\n",
       "      <td>69825</td>\n",
       "      <td>2016-08-15</td>\n",
       "      <td>2016-08-20</td>\n",
       "      <td>1557</td>\n",
       "      <td>45</td>\n",
       "      <td>31</td>\n",
       "      <td>89.9</td>\n",
       "      <td>42892</td>\n",
       "      <td>1958-09-23</td>\n",
       "      <td>2015-11-14</td>\n",
       "      <td>...</td>\n",
       "      <td>0</td>\n",
       "      <td>0</td>\n",
       "      <td>0</td>\n",
       "      <td>0</td>\n",
       "      <td>0</td>\n",
       "      <td>0</td>\n",
       "      <td>0</td>\n",
       "      <td>0</td>\n",
       "      <td>0</td>\n",
       "      <td>0</td>\n",
       "    </tr>\n",
       "    <tr>\n",
       "      <th>2</th>\n",
       "      <td>9929</td>\n",
       "      <td>2016-06-27</td>\n",
       "      <td>2016-07-02</td>\n",
       "      <td>292</td>\n",
       "      <td>4</td>\n",
       "      <td>4</td>\n",
       "      <td>64.9</td>\n",
       "      <td>32479</td>\n",
       "      <td>1961-09-19</td>\n",
       "      <td>2016-06-28</td>\n",
       "      <td>...</td>\n",
       "      <td>0</td>\n",
       "      <td>0</td>\n",
       "      <td>0</td>\n",
       "      <td>0</td>\n",
       "      <td>0</td>\n",
       "      <td>0</td>\n",
       "      <td>0</td>\n",
       "      <td>0</td>\n",
       "      <td>0</td>\n",
       "      <td>0</td>\n",
       "    </tr>\n",
       "    <tr>\n",
       "      <th>3</th>\n",
       "      <td>75600</td>\n",
       "      <td>2016-08-21</td>\n",
       "      <td>2016-08-22</td>\n",
       "      <td>1445</td>\n",
       "      <td>48</td>\n",
       "      <td>29</td>\n",
       "      <td>59.9</td>\n",
       "      <td>4216</td>\n",
       "      <td>1952-10-01</td>\n",
       "      <td>2015-02-17</td>\n",
       "      <td>...</td>\n",
       "      <td>0</td>\n",
       "      <td>0</td>\n",
       "      <td>0</td>\n",
       "      <td>0</td>\n",
       "      <td>0</td>\n",
       "      <td>0</td>\n",
       "      <td>0</td>\n",
       "      <td>0</td>\n",
       "      <td>0</td>\n",
       "      <td>0</td>\n",
       "    </tr>\n",
       "    <tr>\n",
       "      <th>4</th>\n",
       "      <td>95622</td>\n",
       "      <td>2016-09-06</td>\n",
       "      <td>2016-09-07</td>\n",
       "      <td>1415</td>\n",
       "      <td>39</td>\n",
       "      <td>3</td>\n",
       "      <td>21.9</td>\n",
       "      <td>39571</td>\n",
       "      <td>1963-10-30</td>\n",
       "      <td>2015-10-02</td>\n",
       "      <td>...</td>\n",
       "      <td>0</td>\n",
       "      <td>0</td>\n",
       "      <td>0</td>\n",
       "      <td>0</td>\n",
       "      <td>0</td>\n",
       "      <td>0</td>\n",
       "      <td>0</td>\n",
       "      <td>0</td>\n",
       "      <td>0</td>\n",
       "      <td>0</td>\n",
       "    </tr>\n",
       "  </tbody>\n",
       "</table>\n",
       "<p>5 rows × 110 columns</p>\n",
       "</div>"
      ],
      "text/plain": [
       "   Order_Ref_Number Order_Placed_AT Order_Delivered_Date  Product_Ref_ID  \\\n",
       "0             98981      2016-09-10           2016-09-11             897   \n",
       "1             69825      2016-08-15           2016-08-20            1557   \n",
       "2              9929      2016-06-27           2016-07-02             292   \n",
       "3             75600      2016-08-21           2016-08-22            1445   \n",
       "4             95622      2016-09-06           2016-09-07            1415   \n",
       "\n",
       "   Size  Product_Category_Reference  Cost_to_Customer(USD)  Customer_ID  \\\n",
       "0    42                          33                   19.9        48040   \n",
       "1    45                          31                   89.9        42892   \n",
       "2     4                           4                   64.9        32479   \n",
       "3    48                          29                   59.9         4216   \n",
       "4    39                           3                   21.9        39571   \n",
       "\n",
       "  Customer_BirthDate Customer_Joining_Date  ...  Color_Code_pink  \\\n",
       "0         1960-05-30            2015-02-17  ...                0   \n",
       "1         1958-09-23            2015-11-14  ...                0   \n",
       "2         1961-09-19            2016-06-28  ...                0   \n",
       "3         1952-10-01            2015-02-17  ...                0   \n",
       "4         1963-10-30            2015-10-02  ...                0   \n",
       "\n",
       "   Color_Code_purple  Color_Code_red  Color_Code_silver  Color_Code_stained  \\\n",
       "0                  0               0                  0                   0   \n",
       "1                  0               0                  0                   0   \n",
       "2                  0               0                  0                   0   \n",
       "3                  0               0                  0                   0   \n",
       "4                  0               0                  0                   0   \n",
       "\n",
       "   Color_Code_striped  Color_Code_terracotta  Color_Code_turquoise  \\\n",
       "0                   0                      0                     0   \n",
       "1                   0                      0                     0   \n",
       "2                   0                      0                     0   \n",
       "3                   0                      0                     0   \n",
       "4                   0                      0                     0   \n",
       "\n",
       "   Color_Code_white  Color_Code_yellow  \n",
       "0                 0                  0  \n",
       "1                 0                  0  \n",
       "2                 0                  0  \n",
       "3                 0                  0  \n",
       "4                 0                  0  \n",
       "\n",
       "[5 rows x 110 columns]"
      ]
     },
     "execution_count": 239,
     "metadata": {},
     "output_type": "execute_result"
    }
   ],
   "source": [
    "train_df.head()"
   ]
  },
  {
   "cell_type": "code",
   "execution_count": 240,
   "metadata": {},
   "outputs": [],
   "source": [
    "\n",
    "train_df.drop(['Order_Ref_Number', 'Order_Placed_AT', 'Order_Delivered_Date',\n",
    "       'Customer_ID', 'Customer_BirthDate','Customer_Joining_Date'], axis=1, inplace=True)"
   ]
  },
  {
   "cell_type": "code",
   "execution_count": 253,
   "metadata": {},
   "outputs": [],
   "source": [
    "y = train_df['Order_Repeat_Chance']"
   ]
  },
  {
   "cell_type": "code",
   "execution_count": 254,
   "metadata": {},
   "outputs": [],
   "source": [
    "X =  train_df.drop(['Order_Repeat_Chance','Color_Code_opal'],axis =1)"
   ]
  },
  {
   "cell_type": "code",
   "execution_count": 255,
   "metadata": {},
   "outputs": [
    {
     "data": {
      "text/plain": [
       "(75000, 102)"
      ]
     },
     "execution_count": 255,
     "metadata": {},
     "output_type": "execute_result"
    }
   ],
   "source": [
    "X.shape"
   ]
  },
  {
   "cell_type": "code",
   "execution_count": 256,
   "metadata": {},
   "outputs": [],
   "source": [
    "X_train, X_test, y_train, y_test = train_test_split(X, y, test_size=0.3, random_state=42)"
   ]
  },
  {
   "cell_type": "code",
   "execution_count": 257,
   "metadata": {},
   "outputs": [],
   "source": [
    "from xgboost import XGBClassifier\n",
    "model = XGBClassifier(learning_rate =0.1,\n",
    "                    n_estimators=1000,\n",
    "                    max_depth=5,\n",
    "                    min_child_weight=1,\n",
    "                    gamma=1.2,\n",
    "                    subsample=0.9,\n",
    "                    colsample_bytree=0.6,\n",
    "                    scale_pos_weight=1,\n",
    "                    seed=27).fit(X_train,y_train)"
   ]
  },
  {
   "cell_type": "code",
   "execution_count": 259,
   "metadata": {},
   "outputs": [],
   "source": [
    "y_pred = model.predict(X_test)\n"
   ]
  },
  {
   "cell_type": "code",
   "execution_count": 260,
   "metadata": {},
   "outputs": [
    {
     "data": {
      "text/plain": [
       "array([[7611, 4666],\n",
       "       [3462, 6761]], dtype=int64)"
      ]
     },
     "execution_count": 260,
     "metadata": {},
     "output_type": "execute_result"
    }
   ],
   "source": [
    "\n",
    "confusion_matrix(y_test, y_pred)"
   ]
  },
  {
   "cell_type": "code",
   "execution_count": 261,
   "metadata": {},
   "outputs": [
    {
     "data": {
      "text/plain": [
       "14372"
      ]
     },
     "execution_count": 261,
     "metadata": {},
     "output_type": "execute_result"
    }
   ],
   "source": [
    "accuracy_score(y_test, y_pred, normalize=False)"
   ]
  },
  {
   "cell_type": "markdown",
   "metadata": {},
   "source": [
    "#while Adding New features like Color_Code ,Location effects on Accuracy "
   ]
  },
  {
   "cell_type": "code",
   "execution_count": null,
   "metadata": {},
   "outputs": [],
   "source": []
  },
  {
   "cell_type": "code",
   "execution_count": 248,
   "metadata": {},
   "outputs": [
    {
     "data": {
      "text/html": [
       "<div>\n",
       "<style scoped>\n",
       "    .dataframe tbody tr th:only-of-type {\n",
       "        vertical-align: middle;\n",
       "    }\n",
       "\n",
       "    .dataframe tbody tr th {\n",
       "        vertical-align: top;\n",
       "    }\n",
       "\n",
       "    .dataframe thead th {\n",
       "        text-align: right;\n",
       "    }\n",
       "</style>\n",
       "<table border=\"1\" class=\"dataframe\">\n",
       "  <thead>\n",
       "    <tr style=\"text-align: right;\">\n",
       "      <th></th>\n",
       "      <th>Order_Ref_Number</th>\n",
       "      <th>Order_Placed_AT</th>\n",
       "      <th>Order_Delivered_Date</th>\n",
       "      <th>Product_Ref_ID</th>\n",
       "      <th>Size</th>\n",
       "      <th>Product_Category_Reference</th>\n",
       "      <th>Cost_to_Customer(USD)</th>\n",
       "      <th>Customer_ID</th>\n",
       "      <th>Customer_BirthDate</th>\n",
       "      <th>Customer_Joining_Date</th>\n",
       "      <th>...</th>\n",
       "      <th>Color_Code_pink</th>\n",
       "      <th>Color_Code_purple</th>\n",
       "      <th>Color_Code_red</th>\n",
       "      <th>Color_Code_silver</th>\n",
       "      <th>Color_Code_stained</th>\n",
       "      <th>Color_Code_striped</th>\n",
       "      <th>Color_Code_terracotta</th>\n",
       "      <th>Color_Code_turquoise</th>\n",
       "      <th>Color_Code_white</th>\n",
       "      <th>Color_Code_yellow</th>\n",
       "    </tr>\n",
       "  </thead>\n",
       "  <tbody>\n",
       "    <tr>\n",
       "      <th>0</th>\n",
       "      <td>75722</td>\n",
       "      <td>2016-08-20</td>\n",
       "      <td>2016-08-23</td>\n",
       "      <td>1745</td>\n",
       "      <td>13</td>\n",
       "      <td>64</td>\n",
       "      <td>75.0</td>\n",
       "      <td>43916</td>\n",
       "      <td>1975-01-31</td>\n",
       "      <td>2016-08-21</td>\n",
       "      <td>...</td>\n",
       "      <td>0</td>\n",
       "      <td>0</td>\n",
       "      <td>0</td>\n",
       "      <td>0</td>\n",
       "      <td>0</td>\n",
       "      <td>0</td>\n",
       "      <td>0</td>\n",
       "      <td>0</td>\n",
       "      <td>0</td>\n",
       "      <td>0</td>\n",
       "    </tr>\n",
       "    <tr>\n",
       "      <th>1</th>\n",
       "      <td>80185</td>\n",
       "      <td>2016-08-24</td>\n",
       "      <td>2016-08-28</td>\n",
       "      <td>1806</td>\n",
       "      <td>50</td>\n",
       "      <td>110</td>\n",
       "      <td>16.9</td>\n",
       "      <td>44684</td>\n",
       "      <td>1969-12-10</td>\n",
       "      <td>2015-02-17</td>\n",
       "      <td>...</td>\n",
       "      <td>0</td>\n",
       "      <td>0</td>\n",
       "      <td>0</td>\n",
       "      <td>0</td>\n",
       "      <td>0</td>\n",
       "      <td>0</td>\n",
       "      <td>0</td>\n",
       "      <td>0</td>\n",
       "      <td>0</td>\n",
       "      <td>0</td>\n",
       "    </tr>\n",
       "    <tr>\n",
       "      <th>2</th>\n",
       "      <td>19865</td>\n",
       "      <td>2016-06-30</td>\n",
       "      <td>2016-08-02</td>\n",
       "      <td>22</td>\n",
       "      <td>42</td>\n",
       "      <td>14</td>\n",
       "      <td>19.9</td>\n",
       "      <td>34106</td>\n",
       "      <td>1968-01-18</td>\n",
       "      <td>2015-02-17</td>\n",
       "      <td>...</td>\n",
       "      <td>0</td>\n",
       "      <td>0</td>\n",
       "      <td>0</td>\n",
       "      <td>0</td>\n",
       "      <td>0</td>\n",
       "      <td>0</td>\n",
       "      <td>0</td>\n",
       "      <td>0</td>\n",
       "      <td>0</td>\n",
       "      <td>0</td>\n",
       "    </tr>\n",
       "    <tr>\n",
       "      <th>3</th>\n",
       "      <td>76700</td>\n",
       "      <td>2016-08-21</td>\n",
       "      <td>2016-08-24</td>\n",
       "      <td>1683</td>\n",
       "      <td>42</td>\n",
       "      <td>97</td>\n",
       "      <td>39.9</td>\n",
       "      <td>34160</td>\n",
       "      <td>1961-03-31</td>\n",
       "      <td>2016-03-03</td>\n",
       "      <td>...</td>\n",
       "      <td>0</td>\n",
       "      <td>0</td>\n",
       "      <td>0</td>\n",
       "      <td>0</td>\n",
       "      <td>0</td>\n",
       "      <td>0</td>\n",
       "      <td>0</td>\n",
       "      <td>0</td>\n",
       "      <td>0</td>\n",
       "      <td>0</td>\n",
       "    </tr>\n",
       "    <tr>\n",
       "      <th>4</th>\n",
       "      <td>92992</td>\n",
       "      <td>2016-09-04</td>\n",
       "      <td>2016-09-06</td>\n",
       "      <td>1500</td>\n",
       "      <td>42</td>\n",
       "      <td>11</td>\n",
       "      <td>69.9</td>\n",
       "      <td>11929</td>\n",
       "      <td>1962-06-02</td>\n",
       "      <td>2016-04-23</td>\n",
       "      <td>...</td>\n",
       "      <td>0</td>\n",
       "      <td>0</td>\n",
       "      <td>0</td>\n",
       "      <td>0</td>\n",
       "      <td>0</td>\n",
       "      <td>0</td>\n",
       "      <td>0</td>\n",
       "      <td>0</td>\n",
       "      <td>0</td>\n",
       "      <td>0</td>\n",
       "    </tr>\n",
       "  </tbody>\n",
       "</table>\n",
       "<p>5 rows × 108 columns</p>\n",
       "</div>"
      ],
      "text/plain": [
       "   Order_Ref_Number Order_Placed_AT Order_Delivered_Date  Product_Ref_ID  \\\n",
       "0             75722      2016-08-20           2016-08-23            1745   \n",
       "1             80185      2016-08-24           2016-08-28            1806   \n",
       "2             19865      2016-06-30           2016-08-02              22   \n",
       "3             76700      2016-08-21           2016-08-24            1683   \n",
       "4             92992      2016-09-04           2016-09-06            1500   \n",
       "\n",
       "   Size  Product_Category_Reference  Cost_to_Customer(USD)  Customer_ID  \\\n",
       "0    13                          64                   75.0        43916   \n",
       "1    50                         110                   16.9        44684   \n",
       "2    42                          14                   19.9        34106   \n",
       "3    42                          97                   39.9        34160   \n",
       "4    42                          11                   69.9        11929   \n",
       "\n",
       "  Customer_BirthDate Customer_Joining_Date  ...  Color_Code_pink  \\\n",
       "0         1975-01-31            2016-08-21  ...                0   \n",
       "1         1969-12-10            2015-02-17  ...                0   \n",
       "2         1968-01-18            2015-02-17  ...                0   \n",
       "3         1961-03-31            2016-03-03  ...                0   \n",
       "4         1962-06-02            2016-04-23  ...                0   \n",
       "\n",
       "   Color_Code_purple  Color_Code_red  Color_Code_silver  Color_Code_stained  \\\n",
       "0                  0               0                  0                   0   \n",
       "1                  0               0                  0                   0   \n",
       "2                  0               0                  0                   0   \n",
       "3                  0               0                  0                   0   \n",
       "4                  0               0                  0                   0   \n",
       "\n",
       "   Color_Code_striped  Color_Code_terracotta  Color_Code_turquoise  \\\n",
       "0                   0                      0                     0   \n",
       "1                   0                      0                     0   \n",
       "2                   0                      0                     0   \n",
       "3                   0                      0                     0   \n",
       "4                   0                      0                     0   \n",
       "\n",
       "   Color_Code_white  Color_Code_yellow  \n",
       "0                 0                  0  \n",
       "1                 0                  0  \n",
       "2                 0                  0  \n",
       "3                 0                  0  \n",
       "4                 0                  0  \n",
       "\n",
       "[5 rows x 108 columns]"
      ]
     },
     "execution_count": 248,
     "metadata": {},
     "output_type": "execute_result"
    }
   ],
   "source": [
    "test_df.head()"
   ]
  },
  {
   "cell_type": "code",
   "execution_count": 249,
   "metadata": {},
   "outputs": [],
   "source": [
    "test_df.drop(['Order_Ref_Number', 'Order_Placed_AT', 'Order_Delivered_Date',\n",
    "       'Customer_ID', 'Customer_BirthDate','Customer_Joining_Date'], axis=1, inplace=True)"
   ]
  },
  {
   "cell_type": "code",
   "execution_count": 250,
   "metadata": {},
   "outputs": [
    {
     "data": {
      "text/html": [
       "<div>\n",
       "<style scoped>\n",
       "    .dataframe tbody tr th:only-of-type {\n",
       "        vertical-align: middle;\n",
       "    }\n",
       "\n",
       "    .dataframe tbody tr th {\n",
       "        vertical-align: top;\n",
       "    }\n",
       "\n",
       "    .dataframe thead th {\n",
       "        text-align: right;\n",
       "    }\n",
       "</style>\n",
       "<table border=\"1\" class=\"dataframe\">\n",
       "  <thead>\n",
       "    <tr style=\"text-align: right;\">\n",
       "      <th></th>\n",
       "      <th>Product_Ref_ID</th>\n",
       "      <th>Size</th>\n",
       "      <th>Product_Category_Reference</th>\n",
       "      <th>Cost_to_Customer(USD)</th>\n",
       "      <th>Order_delivered_Time</th>\n",
       "      <th>Gender_Company</th>\n",
       "      <th>Gender_Family</th>\n",
       "      <th>Gender_Mr</th>\n",
       "      <th>Gender_Mrs</th>\n",
       "      <th>Gender_not reported</th>\n",
       "      <th>...</th>\n",
       "      <th>Color_Code_pink</th>\n",
       "      <th>Color_Code_purple</th>\n",
       "      <th>Color_Code_red</th>\n",
       "      <th>Color_Code_silver</th>\n",
       "      <th>Color_Code_stained</th>\n",
       "      <th>Color_Code_striped</th>\n",
       "      <th>Color_Code_terracotta</th>\n",
       "      <th>Color_Code_turquoise</th>\n",
       "      <th>Color_Code_white</th>\n",
       "      <th>Color_Code_yellow</th>\n",
       "    </tr>\n",
       "  </thead>\n",
       "  <tbody>\n",
       "    <tr>\n",
       "      <th>0</th>\n",
       "      <td>1745</td>\n",
       "      <td>13</td>\n",
       "      <td>64</td>\n",
       "      <td>75.0</td>\n",
       "      <td>3.0</td>\n",
       "      <td>0</td>\n",
       "      <td>0</td>\n",
       "      <td>0</td>\n",
       "      <td>1</td>\n",
       "      <td>0</td>\n",
       "      <td>...</td>\n",
       "      <td>0</td>\n",
       "      <td>0</td>\n",
       "      <td>0</td>\n",
       "      <td>0</td>\n",
       "      <td>0</td>\n",
       "      <td>0</td>\n",
       "      <td>0</td>\n",
       "      <td>0</td>\n",
       "      <td>0</td>\n",
       "      <td>0</td>\n",
       "    </tr>\n",
       "    <tr>\n",
       "      <th>1</th>\n",
       "      <td>1806</td>\n",
       "      <td>50</td>\n",
       "      <td>110</td>\n",
       "      <td>16.9</td>\n",
       "      <td>4.0</td>\n",
       "      <td>0</td>\n",
       "      <td>0</td>\n",
       "      <td>0</td>\n",
       "      <td>1</td>\n",
       "      <td>0</td>\n",
       "      <td>...</td>\n",
       "      <td>0</td>\n",
       "      <td>0</td>\n",
       "      <td>0</td>\n",
       "      <td>0</td>\n",
       "      <td>0</td>\n",
       "      <td>0</td>\n",
       "      <td>0</td>\n",
       "      <td>0</td>\n",
       "      <td>0</td>\n",
       "      <td>0</td>\n",
       "    </tr>\n",
       "    <tr>\n",
       "      <th>2</th>\n",
       "      <td>22</td>\n",
       "      <td>42</td>\n",
       "      <td>14</td>\n",
       "      <td>19.9</td>\n",
       "      <td>33.0</td>\n",
       "      <td>0</td>\n",
       "      <td>0</td>\n",
       "      <td>0</td>\n",
       "      <td>1</td>\n",
       "      <td>0</td>\n",
       "      <td>...</td>\n",
       "      <td>0</td>\n",
       "      <td>0</td>\n",
       "      <td>0</td>\n",
       "      <td>0</td>\n",
       "      <td>0</td>\n",
       "      <td>0</td>\n",
       "      <td>0</td>\n",
       "      <td>0</td>\n",
       "      <td>0</td>\n",
       "      <td>0</td>\n",
       "    </tr>\n",
       "    <tr>\n",
       "      <th>3</th>\n",
       "      <td>1683</td>\n",
       "      <td>42</td>\n",
       "      <td>97</td>\n",
       "      <td>39.9</td>\n",
       "      <td>3.0</td>\n",
       "      <td>0</td>\n",
       "      <td>0</td>\n",
       "      <td>0</td>\n",
       "      <td>1</td>\n",
       "      <td>0</td>\n",
       "      <td>...</td>\n",
       "      <td>0</td>\n",
       "      <td>0</td>\n",
       "      <td>0</td>\n",
       "      <td>0</td>\n",
       "      <td>0</td>\n",
       "      <td>0</td>\n",
       "      <td>0</td>\n",
       "      <td>0</td>\n",
       "      <td>0</td>\n",
       "      <td>0</td>\n",
       "    </tr>\n",
       "    <tr>\n",
       "      <th>4</th>\n",
       "      <td>1500</td>\n",
       "      <td>42</td>\n",
       "      <td>11</td>\n",
       "      <td>69.9</td>\n",
       "      <td>2.0</td>\n",
       "      <td>0</td>\n",
       "      <td>0</td>\n",
       "      <td>0</td>\n",
       "      <td>1</td>\n",
       "      <td>0</td>\n",
       "      <td>...</td>\n",
       "      <td>0</td>\n",
       "      <td>0</td>\n",
       "      <td>0</td>\n",
       "      <td>0</td>\n",
       "      <td>0</td>\n",
       "      <td>0</td>\n",
       "      <td>0</td>\n",
       "      <td>0</td>\n",
       "      <td>0</td>\n",
       "      <td>0</td>\n",
       "    </tr>\n",
       "  </tbody>\n",
       "</table>\n",
       "<p>5 rows × 102 columns</p>\n",
       "</div>"
      ],
      "text/plain": [
       "   Product_Ref_ID  Size  Product_Category_Reference  Cost_to_Customer(USD)  \\\n",
       "0            1745    13                          64                   75.0   \n",
       "1            1806    50                         110                   16.9   \n",
       "2              22    42                          14                   19.9   \n",
       "3            1683    42                          97                   39.9   \n",
       "4            1500    42                          11                   69.9   \n",
       "\n",
       "   Order_delivered_Time  Gender_Company  Gender_Family  Gender_Mr  Gender_Mrs  \\\n",
       "0                   3.0               0              0          0           1   \n",
       "1                   4.0               0              0          0           1   \n",
       "2                  33.0               0              0          0           1   \n",
       "3                   3.0               0              0          0           1   \n",
       "4                   2.0               0              0          0           1   \n",
       "\n",
       "   Gender_not reported  ...  Color_Code_pink  Color_Code_purple  \\\n",
       "0                    0  ...                0                  0   \n",
       "1                    0  ...                0                  0   \n",
       "2                    0  ...                0                  0   \n",
       "3                    0  ...                0                  0   \n",
       "4                    0  ...                0                  0   \n",
       "\n",
       "   Color_Code_red  Color_Code_silver  Color_Code_stained  Color_Code_striped  \\\n",
       "0               0                  0                   0                   0   \n",
       "1               0                  0                   0                   0   \n",
       "2               0                  0                   0                   0   \n",
       "3               0                  0                   0                   0   \n",
       "4               0                  0                   0                   0   \n",
       "\n",
       "   Color_Code_terracotta  Color_Code_turquoise  Color_Code_white  \\\n",
       "0                      0                     0                 0   \n",
       "1                      0                     0                 0   \n",
       "2                      0                     0                 0   \n",
       "3                      0                     0                 0   \n",
       "4                      0                     0                 0   \n",
       "\n",
       "   Color_Code_yellow  \n",
       "0                  0  \n",
       "1                  0  \n",
       "2                  0  \n",
       "3                  0  \n",
       "4                  0  \n",
       "\n",
       "[5 rows x 102 columns]"
      ]
     },
     "execution_count": 250,
     "metadata": {},
     "output_type": "execute_result"
    }
   ],
   "source": [
    "test_df.head()"
   ]
  },
  {
   "cell_type": "code",
   "execution_count": 188,
   "metadata": {},
   "outputs": [],
   "source": [
    "#test_data['Size'] = test_data['Size'].apply(pd.to_numeric, errors='coerce')\n",
    "#test_data['Size'].fillna(int(test_data['Size'].mean()), inplace=True)"
   ]
  },
  {
   "cell_type": "code",
   "execution_count": 155,
   "metadata": {},
   "outputs": [],
   "source": [
    "#test_data = pd.get_dummies(test_data, columns=['Gender'])"
   ]
  },
  {
   "cell_type": "code",
   "execution_count": 156,
   "metadata": {},
   "outputs": [],
   "source": [
    "#scaler = StandardScaler()\n",
    "\n",
    "#X_test_data = scaler.fit_transform(test_data)"
   ]
  },
  {
   "cell_type": "code",
   "execution_count": 262,
   "metadata": {},
   "outputs": [],
   "source": [
    "y_pred_x  = model.predict(test_df)"
   ]
  },
  {
   "cell_type": "code",
   "execution_count": 263,
   "metadata": {},
   "outputs": [],
   "source": [
    "sub = pd.read_csv(r'C:\\Users\\91784\\Downloads\\dataset\\SKILLINZA\\Sub.csv')"
   ]
  },
  {
   "cell_type": "code",
   "execution_count": 264,
   "metadata": {},
   "outputs": [
    {
     "data": {
      "text/plain": [
       "(25000, 2)"
      ]
     },
     "execution_count": 264,
     "metadata": {},
     "output_type": "execute_result"
    }
   ],
   "source": [
    "sub.shape"
   ]
  },
  {
   "cell_type": "code",
   "execution_count": 265,
   "metadata": {},
   "outputs": [
    {
     "data": {
      "text/html": [
       "<div>\n",
       "<style scoped>\n",
       "    .dataframe tbody tr th:only-of-type {\n",
       "        vertical-align: middle;\n",
       "    }\n",
       "\n",
       "    .dataframe tbody tr th {\n",
       "        vertical-align: top;\n",
       "    }\n",
       "\n",
       "    .dataframe thead th {\n",
       "        text-align: right;\n",
       "    }\n",
       "</style>\n",
       "<table border=\"1\" class=\"dataframe\">\n",
       "  <thead>\n",
       "    <tr style=\"text-align: right;\">\n",
       "      <th></th>\n",
       "      <th>Order_Ref_Number</th>\n",
       "      <th>Order_Repeat_Chance</th>\n",
       "    </tr>\n",
       "  </thead>\n",
       "  <tbody>\n",
       "    <tr>\n",
       "      <th>0</th>\n",
       "      <td>75722</td>\n",
       "      <td>2</td>\n",
       "    </tr>\n",
       "    <tr>\n",
       "      <th>1</th>\n",
       "      <td>80185</td>\n",
       "      <td>0</td>\n",
       "    </tr>\n",
       "    <tr>\n",
       "      <th>2</th>\n",
       "      <td>19865</td>\n",
       "      <td>1</td>\n",
       "    </tr>\n",
       "    <tr>\n",
       "      <th>3</th>\n",
       "      <td>76700</td>\n",
       "      <td>1</td>\n",
       "    </tr>\n",
       "    <tr>\n",
       "      <th>4</th>\n",
       "      <td>92992</td>\n",
       "      <td>2</td>\n",
       "    </tr>\n",
       "  </tbody>\n",
       "</table>\n",
       "</div>"
      ],
      "text/plain": [
       "   Order_Ref_Number  Order_Repeat_Chance\n",
       "0             75722                    2\n",
       "1             80185                    0\n",
       "2             19865                    1\n",
       "3             76700                    1\n",
       "4             92992                    2"
      ]
     },
     "execution_count": 265,
     "metadata": {},
     "output_type": "execute_result"
    }
   ],
   "source": [
    "sub.head()"
   ]
  },
  {
   "cell_type": "code",
   "execution_count": 266,
   "metadata": {},
   "outputs": [],
   "source": [
    "sub['Order_Repeat_Chance'] = y_pred_x"
   ]
  },
  {
   "cell_type": "code",
   "execution_count": 267,
   "metadata": {},
   "outputs": [],
   "source": [
    "sub.to_csv(r'C:\\Users\\91784\\Downloads\\dataset\\SKILLINZA\\Sub3.csv',index = False)"
   ]
  },
  {
   "cell_type": "code",
   "execution_count": 163,
   "metadata": {},
   "outputs": [
    {
     "data": {
      "text/plain": [
       "0    17523\n",
       "1     7477\n",
       "Name: Order_Repeat_Chance, dtype: int64"
      ]
     },
     "execution_count": 163,
     "metadata": {},
     "output_type": "execute_result"
    }
   ],
   "source": [
    "sub['Order_Repeat_Chance'].value_counts()"
   ]
  },
  {
   "cell_type": "code",
   "execution_count": 268,
   "metadata": {},
   "outputs": [
    {
     "data": {
      "text/plain": [
       "1    12519\n",
       "0    12481\n",
       "Name: Order_Repeat_Chance, dtype: int64"
      ]
     },
     "execution_count": 268,
     "metadata": {},
     "output_type": "execute_result"
    }
   ],
   "source": [
    "sub['Order_Repeat_Chance'].value_counts()"
   ]
  },
  {
   "cell_type": "code",
   "execution_count": null,
   "metadata": {},
   "outputs": [],
   "source": []
  },
  {
   "cell_type": "code",
   "execution_count": null,
   "metadata": {},
   "outputs": [],
   "source": []
  }
 ],
 "metadata": {
  "kernelspec": {
   "display_name": "Python 3",
   "language": "python",
   "name": "python3"
  },
  "language_info": {
   "codemirror_mode": {
    "name": "ipython",
    "version": 3
   },
   "file_extension": ".py",
   "mimetype": "text/x-python",
   "name": "python",
   "nbconvert_exporter": "python",
   "pygments_lexer": "ipython3",
   "version": "3.7.3"
  }
 },
 "nbformat": 4,
 "nbformat_minor": 2
}
